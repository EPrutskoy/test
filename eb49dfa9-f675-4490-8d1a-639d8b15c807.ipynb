{
 "cells": [
  {
   "cell_type": "markdown",
   "metadata": {},
   "source": [
    "# Проектная работа"
   ]
  },
  {
   "cell_type": "markdown",
   "metadata": {},
   "source": [
    "## Описание проекта\n",
    "Из «Бета-Банка» стали уходить клиенты. Каждый месяц. Немного, но заметно. Банковские маркетологи посчитали: сохранять текущих клиентов дешевле, чем привлекать новых.\\\n",
    "Нужно спрогнозировать, уйдёт клиент из банка в ближайшее время или нет. Вам предоставлены исторические данные о поведении клиентов и расторжении договоров с банком. \\\n",
    "Постройте модель с предельно большим значением F1-меры. Чтобы сдать проект успешно, нужно довести метрику до 0.59. Проверьте F1-меру на тестовой выборке самостоятельно.\\\n",
    "Дополнительно измеряйте AUC-ROC, сравнивайте её значение с F1-мерой."
   ]
  },
  {
   "cell_type": "markdown",
   "metadata": {},
   "source": [
    "## Порядок по выполнения проекта\n",
    "* Загрузим и подготовм данные. Поясним порядок действий.\n",
    "* Исследуем баланс классов, обучим модель без учёта дисбаланса. Кратко опишим выводы.\n",
    "* Улучшим качество модели, учитывая дисбаланс классов. Обучим разные модели и найдем лучшую. Кратко опишим выводы.\n",
    "* Проведем финальное тестирование."
   ]
  },
  {
   "cell_type": "markdown",
   "metadata": {},
   "source": [
    "## Обзор данных\n",
    "* Данные находятся в файле `/datasets/Churn.csv`  (англ. «отток клиентов»). \n",
    "### **Признаки**\n",
    "* `RowNumber` — индекс строки в данных\n",
    "* `CustomerId` — уникальный идентификатор клиента\n",
    "* `Surname` — фамилия\n",
    "* `CreditScore` — кредитный рейтинг\n",
    "* `Geography` — страна проживания\n",
    "* `Gender` — пол\n",
    "* `Age` — возраст\n",
    "* `Tenure` — сколько лет человек является клиентом банка\n",
    "* `Balance` — баланс на счёте\n",
    "* `NumOfProducts` — количество продуктов банка, используемых клиентом\n",
    "* `HasCrCard` — наличие кредитной карты\n",
    "* `IsActiveMember` — активность клиента\n",
    "* `EstimatedSalary` — предполагаемая зарплата\n",
    "### **Целевой признак**\n",
    "* `Exited` — факт ухода клиента"
   ]
  },
  {
   "cell_type": "markdown",
   "metadata": {},
   "source": [
    "## Подготовка данных"
   ]
  },
  {
   "cell_type": "markdown",
   "metadata": {},
   "source": [
    "### Загрузим библотеки, настроем среду"
   ]
  },
  {
   "cell_type": "code",
   "execution_count": 1,
   "metadata": {},
   "outputs": [],
   "source": [
    "from statsmodels.stats.outliers_influence import variance_inflation_factor\n",
    "from statsmodels.tools.tools import add_constant\n",
    "import pandas as pd\n",
    "import numpy as np\n",
    "import matplotlib.pyplot as plt\n",
    "import seaborn as sns\n",
    "import statsmodels.api as sm\n",
    "import scipy\n",
    "import math\n",
    "from IPython.display import display\n",
    "from sklearn.model_selection import train_test_split\n",
    "from sklearn.metrics import plot_confusion_matrix\n",
    "from sklearn.metrics import f1_score\n",
    "from sklearn.metrics import mean_squared_error\n",
    "from sklearn.metrics import mean_absolute_error\n",
    "from sklearn.preprocessing import StandardScaler\n",
    "from sklearn.metrics import accuracy_score\n",
    "from sklearn.metrics import recall_score\n",
    "from sklearn.metrics import precision_score\n",
    "from sklearn.utils import shuffle\n",
    "from sklearn.metrics import precision_recall_curve\n",
    "from sklearn.metrics import roc_curve\n",
    "from sklearn.metrics import roc_auc_score\n",
    "from sklearn.metrics import r2_score\n",
    "from sklearn.linear_model import LogisticRegression\n",
    "from sklearn.tree import DecisionTreeClassifier\n",
    "from sklearn.ensemble import RandomForestClassifier\n",
    "from sklearn.tree import DecisionTreeRegressor\n",
    "from sklearn.ensemble import RandomForestRegressor\n",
    "from sklearn.linear_model import LinearRegression\n",
    "from sklearn.utils import resample\n",
    "from sklearn.metrics import confusion_matrix"
   ]
  },
  {
   "cell_type": "code",
   "execution_count": 2,
   "metadata": {},
   "outputs": [],
   "source": [
    "pd.options.display.max_columns = 30\n",
    "pd.options.display.float_format = '{:,.4f}'.format\n",
    "pd.set_option('chained_assignment', None)  "
   ]
  },
  {
   "cell_type": "markdown",
   "metadata": {},
   "source": [
    "### Загружаем \"пациента\""
   ]
  },
  {
   "cell_type": "code",
   "execution_count": null,
   "metadata": {},
   "outputs": [],
   "source": [
    "try:\n",
    "    dfc = pd.read_csv('Churn.csv', sep=',')\n",
    "except:\n",
    "    dfc = pd.read_csv('https://code.s3.yandex.net/datasets/Churn.csv', sep=',')"
   ]
  },
  {
   "cell_type": "code",
   "execution_count": 4,
   "metadata": {},
   "outputs": [
    {
     "data": {
      "text/html": [
       "<div>\n",
       "<style scoped>\n",
       "    .dataframe tbody tr th:only-of-type {\n",
       "        vertical-align: middle;\n",
       "    }\n",
       "\n",
       "    .dataframe tbody tr th {\n",
       "        vertical-align: top;\n",
       "    }\n",
       "\n",
       "    .dataframe thead th {\n",
       "        text-align: right;\n",
       "    }\n",
       "</style>\n",
       "<table border=\"1\" class=\"dataframe\">\n",
       "  <thead>\n",
       "    <tr style=\"text-align: right;\">\n",
       "      <th></th>\n",
       "      <th>RowNumber</th>\n",
       "      <th>CustomerId</th>\n",
       "      <th>Surname</th>\n",
       "      <th>CreditScore</th>\n",
       "      <th>Geography</th>\n",
       "      <th>Gender</th>\n",
       "      <th>Age</th>\n",
       "      <th>Tenure</th>\n",
       "      <th>Balance</th>\n",
       "      <th>NumOfProducts</th>\n",
       "      <th>HasCrCard</th>\n",
       "      <th>IsActiveMember</th>\n",
       "      <th>EstimatedSalary</th>\n",
       "      <th>Exited</th>\n",
       "    </tr>\n",
       "  </thead>\n",
       "  <tbody>\n",
       "    <tr>\n",
       "      <th>6210</th>\n",
       "      <td>6211</td>\n",
       "      <td>15592197</td>\n",
       "      <td>Simmons</td>\n",
       "      <td>522</td>\n",
       "      <td>Spain</td>\n",
       "      <td>Male</td>\n",
       "      <td>30</td>\n",
       "      <td>3.0000</td>\n",
       "      <td>0.0000</td>\n",
       "      <td>2</td>\n",
       "      <td>1</td>\n",
       "      <td>0</td>\n",
       "      <td>145,490.8500</td>\n",
       "      <td>0</td>\n",
       "    </tr>\n",
       "    <tr>\n",
       "      <th>4796</th>\n",
       "      <td>4797</td>\n",
       "      <td>15765457</td>\n",
       "      <td>Fowler</td>\n",
       "      <td>719</td>\n",
       "      <td>Spain</td>\n",
       "      <td>Male</td>\n",
       "      <td>35</td>\n",
       "      <td>1.0000</td>\n",
       "      <td>100,829.9400</td>\n",
       "      <td>1</td>\n",
       "      <td>1</td>\n",
       "      <td>1</td>\n",
       "      <td>165,008.9700</td>\n",
       "      <td>0</td>\n",
       "    </tr>\n",
       "    <tr>\n",
       "      <th>6754</th>\n",
       "      <td>6755</td>\n",
       "      <td>15688085</td>\n",
       "      <td>Warner</td>\n",
       "      <td>627</td>\n",
       "      <td>Spain</td>\n",
       "      <td>Female</td>\n",
       "      <td>28</td>\n",
       "      <td>3.0000</td>\n",
       "      <td>157,597.6100</td>\n",
       "      <td>1</td>\n",
       "      <td>0</td>\n",
       "      <td>1</td>\n",
       "      <td>34,097.2200</td>\n",
       "      <td>0</td>\n",
       "    </tr>\n",
       "    <tr>\n",
       "      <th>47</th>\n",
       "      <td>48</td>\n",
       "      <td>15771573</td>\n",
       "      <td>Okagbue</td>\n",
       "      <td>637</td>\n",
       "      <td>Germany</td>\n",
       "      <td>Female</td>\n",
       "      <td>39</td>\n",
       "      <td>9.0000</td>\n",
       "      <td>137,843.8000</td>\n",
       "      <td>1</td>\n",
       "      <td>1</td>\n",
       "      <td>1</td>\n",
       "      <td>117,622.8000</td>\n",
       "      <td>1</td>\n",
       "    </tr>\n",
       "    <tr>\n",
       "      <th>7818</th>\n",
       "      <td>7819</td>\n",
       "      <td>15637977</td>\n",
       "      <td>Barese</td>\n",
       "      <td>542</td>\n",
       "      <td>Germany</td>\n",
       "      <td>Male</td>\n",
       "      <td>25</td>\n",
       "      <td>8.0000</td>\n",
       "      <td>139,330.1000</td>\n",
       "      <td>1</td>\n",
       "      <td>0</td>\n",
       "      <td>0</td>\n",
       "      <td>54,372.3700</td>\n",
       "      <td>0</td>\n",
       "    </tr>\n",
       "    <tr>\n",
       "      <th>8986</th>\n",
       "      <td>8987</td>\n",
       "      <td>15607990</td>\n",
       "      <td>Gallo</td>\n",
       "      <td>760</td>\n",
       "      <td>Spain</td>\n",
       "      <td>Male</td>\n",
       "      <td>43</td>\n",
       "      <td>6.0000</td>\n",
       "      <td>175,735.5000</td>\n",
       "      <td>1</td>\n",
       "      <td>1</td>\n",
       "      <td>1</td>\n",
       "      <td>157,337.2900</td>\n",
       "      <td>0</td>\n",
       "    </tr>\n",
       "    <tr>\n",
       "      <th>8956</th>\n",
       "      <td>8957</td>\n",
       "      <td>15723481</td>\n",
       "      <td>Wright</td>\n",
       "      <td>728</td>\n",
       "      <td>Spain</td>\n",
       "      <td>Male</td>\n",
       "      <td>42</td>\n",
       "      <td>8.0000</td>\n",
       "      <td>0.0000</td>\n",
       "      <td>2</td>\n",
       "      <td>0</td>\n",
       "      <td>1</td>\n",
       "      <td>41,823.2200</td>\n",
       "      <td>0</td>\n",
       "    </tr>\n",
       "    <tr>\n",
       "      <th>9611</th>\n",
       "      <td>9612</td>\n",
       "      <td>15586522</td>\n",
       "      <td>Hunter</td>\n",
       "      <td>608</td>\n",
       "      <td>Spain</td>\n",
       "      <td>Male</td>\n",
       "      <td>37</td>\n",
       "      <td>2.0000</td>\n",
       "      <td>130,461.0200</td>\n",
       "      <td>1</td>\n",
       "      <td>1</td>\n",
       "      <td>0</td>\n",
       "      <td>21,967.1500</td>\n",
       "      <td>0</td>\n",
       "    </tr>\n",
       "    <tr>\n",
       "      <th>1540</th>\n",
       "      <td>1541</td>\n",
       "      <td>15605950</td>\n",
       "      <td>Onwuamaeze</td>\n",
       "      <td>530</td>\n",
       "      <td>Germany</td>\n",
       "      <td>Male</td>\n",
       "      <td>23</td>\n",
       "      <td>1.0000</td>\n",
       "      <td>137,060.8800</td>\n",
       "      <td>2</td>\n",
       "      <td>1</td>\n",
       "      <td>1</td>\n",
       "      <td>165,227.2300</td>\n",
       "      <td>0</td>\n",
       "    </tr>\n",
       "    <tr>\n",
       "      <th>3990</th>\n",
       "      <td>3991</td>\n",
       "      <td>15778752</td>\n",
       "      <td>Johnson</td>\n",
       "      <td>708</td>\n",
       "      <td>France</td>\n",
       "      <td>Male</td>\n",
       "      <td>32</td>\n",
       "      <td>10.0000</td>\n",
       "      <td>86,614.0600</td>\n",
       "      <td>2</td>\n",
       "      <td>1</td>\n",
       "      <td>1</td>\n",
       "      <td>172,129.2600</td>\n",
       "      <td>0</td>\n",
       "    </tr>\n",
       "  </tbody>\n",
       "</table>\n",
       "</div>"
      ],
      "text/plain": [
       "      RowNumber  CustomerId     Surname  CreditScore Geography  Gender  Age  \\\n",
       "6210       6211    15592197     Simmons          522     Spain    Male   30   \n",
       "4796       4797    15765457      Fowler          719     Spain    Male   35   \n",
       "6754       6755    15688085      Warner          627     Spain  Female   28   \n",
       "47           48    15771573     Okagbue          637   Germany  Female   39   \n",
       "7818       7819    15637977      Barese          542   Germany    Male   25   \n",
       "8986       8987    15607990       Gallo          760     Spain    Male   43   \n",
       "8956       8957    15723481      Wright          728     Spain    Male   42   \n",
       "9611       9612    15586522      Hunter          608     Spain    Male   37   \n",
       "1540       1541    15605950  Onwuamaeze          530   Germany    Male   23   \n",
       "3990       3991    15778752     Johnson          708    France    Male   32   \n",
       "\n",
       "      Tenure      Balance  NumOfProducts  HasCrCard  IsActiveMember  \\\n",
       "6210  3.0000       0.0000              2          1               0   \n",
       "4796  1.0000 100,829.9400              1          1               1   \n",
       "6754  3.0000 157,597.6100              1          0               1   \n",
       "47    9.0000 137,843.8000              1          1               1   \n",
       "7818  8.0000 139,330.1000              1          0               0   \n",
       "8986  6.0000 175,735.5000              1          1               1   \n",
       "8956  8.0000       0.0000              2          0               1   \n",
       "9611  2.0000 130,461.0200              1          1               0   \n",
       "1540  1.0000 137,060.8800              2          1               1   \n",
       "3990 10.0000  86,614.0600              2          1               1   \n",
       "\n",
       "      EstimatedSalary  Exited  \n",
       "6210     145,490.8500       0  \n",
       "4796     165,008.9700       0  \n",
       "6754      34,097.2200       0  \n",
       "47       117,622.8000       1  \n",
       "7818      54,372.3700       0  \n",
       "8986     157,337.2900       0  \n",
       "8956      41,823.2200       0  \n",
       "9611      21,967.1500       0  \n",
       "1540     165,227.2300       0  \n",
       "3990     172,129.2600       0  "
      ]
     },
     "execution_count": 4,
     "metadata": {},
     "output_type": "execute_result"
    }
   ],
   "source": [
    "dfc.sample(10)"
   ]
  },
  {
   "cell_type": "markdown",
   "metadata": {},
   "source": [
    "* Внимание вызывают столбцы - `Gender` и `Geography`, их нужно будет перевести из категориальных переменных в числовой формат, для дальнейшего использования в алгоритмах машинного обучения. \\\n",
    "Далее всопользуемся методом *One-Hot Encoding*.\n",
    "* Переменные `RowNumber`, `CustomerId`, `Surname` - мы в модель не возьмем. Они содержват в себе необходимые данные о том, останеться ли клиент в банке или нет.\n",
    "* Нахвания ременных не соответсвуют правилам \"змеиного\" наречия - изменим их"
   ]
  },
  {
   "cell_type": "code",
   "execution_count": 5,
   "metadata": {},
   "outputs": [
    {
     "data": {
      "text/html": [
       "<div>\n",
       "<style scoped>\n",
       "    .dataframe tbody tr th:only-of-type {\n",
       "        vertical-align: middle;\n",
       "    }\n",
       "\n",
       "    .dataframe tbody tr th {\n",
       "        vertical-align: top;\n",
       "    }\n",
       "\n",
       "    .dataframe thead th {\n",
       "        text-align: right;\n",
       "    }\n",
       "</style>\n",
       "<table border=\"1\" class=\"dataframe\">\n",
       "  <thead>\n",
       "    <tr style=\"text-align: right;\">\n",
       "      <th></th>\n",
       "      <th>rownumber</th>\n",
       "      <th>customerid</th>\n",
       "      <th>surname</th>\n",
       "      <th>creditscore</th>\n",
       "      <th>geography</th>\n",
       "      <th>gender</th>\n",
       "      <th>age</th>\n",
       "      <th>tenure</th>\n",
       "      <th>balance</th>\n",
       "      <th>numofproducts</th>\n",
       "      <th>hascrcard</th>\n",
       "      <th>isactivemember</th>\n",
       "      <th>estimatedsalary</th>\n",
       "      <th>exited</th>\n",
       "    </tr>\n",
       "  </thead>\n",
       "  <tbody>\n",
       "    <tr>\n",
       "      <th>0</th>\n",
       "      <td>1</td>\n",
       "      <td>15634602</td>\n",
       "      <td>Hargrave</td>\n",
       "      <td>619</td>\n",
       "      <td>France</td>\n",
       "      <td>Female</td>\n",
       "      <td>42</td>\n",
       "      <td>2.0000</td>\n",
       "      <td>0.0000</td>\n",
       "      <td>1</td>\n",
       "      <td>1</td>\n",
       "      <td>1</td>\n",
       "      <td>101,348.8800</td>\n",
       "      <td>1</td>\n",
       "    </tr>\n",
       "    <tr>\n",
       "      <th>1</th>\n",
       "      <td>2</td>\n",
       "      <td>15647311</td>\n",
       "      <td>Hill</td>\n",
       "      <td>608</td>\n",
       "      <td>Spain</td>\n",
       "      <td>Female</td>\n",
       "      <td>41</td>\n",
       "      <td>1.0000</td>\n",
       "      <td>83,807.8600</td>\n",
       "      <td>1</td>\n",
       "      <td>0</td>\n",
       "      <td>1</td>\n",
       "      <td>112,542.5800</td>\n",
       "      <td>0</td>\n",
       "    </tr>\n",
       "    <tr>\n",
       "      <th>2</th>\n",
       "      <td>3</td>\n",
       "      <td>15619304</td>\n",
       "      <td>Onio</td>\n",
       "      <td>502</td>\n",
       "      <td>France</td>\n",
       "      <td>Female</td>\n",
       "      <td>42</td>\n",
       "      <td>8.0000</td>\n",
       "      <td>159,660.8000</td>\n",
       "      <td>3</td>\n",
       "      <td>1</td>\n",
       "      <td>0</td>\n",
       "      <td>113,931.5700</td>\n",
       "      <td>1</td>\n",
       "    </tr>\n",
       "    <tr>\n",
       "      <th>3</th>\n",
       "      <td>4</td>\n",
       "      <td>15701354</td>\n",
       "      <td>Boni</td>\n",
       "      <td>699</td>\n",
       "      <td>France</td>\n",
       "      <td>Female</td>\n",
       "      <td>39</td>\n",
       "      <td>1.0000</td>\n",
       "      <td>0.0000</td>\n",
       "      <td>2</td>\n",
       "      <td>0</td>\n",
       "      <td>0</td>\n",
       "      <td>93,826.6300</td>\n",
       "      <td>0</td>\n",
       "    </tr>\n",
       "    <tr>\n",
       "      <th>4</th>\n",
       "      <td>5</td>\n",
       "      <td>15737888</td>\n",
       "      <td>Mitchell</td>\n",
       "      <td>850</td>\n",
       "      <td>Spain</td>\n",
       "      <td>Female</td>\n",
       "      <td>43</td>\n",
       "      <td>2.0000</td>\n",
       "      <td>125,510.8200</td>\n",
       "      <td>1</td>\n",
       "      <td>1</td>\n",
       "      <td>1</td>\n",
       "      <td>79,084.1000</td>\n",
       "      <td>0</td>\n",
       "    </tr>\n",
       "  </tbody>\n",
       "</table>\n",
       "</div>"
      ],
      "text/plain": [
       "   rownumber  customerid   surname  creditscore geography  gender  age  \\\n",
       "0          1    15634602  Hargrave          619    France  Female   42   \n",
       "1          2    15647311      Hill          608     Spain  Female   41   \n",
       "2          3    15619304      Onio          502    France  Female   42   \n",
       "3          4    15701354      Boni          699    France  Female   39   \n",
       "4          5    15737888  Mitchell          850     Spain  Female   43   \n",
       "\n",
       "   tenure      balance  numofproducts  hascrcard  isactivemember  \\\n",
       "0  2.0000       0.0000              1          1               1   \n",
       "1  1.0000  83,807.8600              1          0               1   \n",
       "2  8.0000 159,660.8000              3          1               0   \n",
       "3  1.0000       0.0000              2          0               0   \n",
       "4  2.0000 125,510.8200              1          1               1   \n",
       "\n",
       "   estimatedsalary  exited  \n",
       "0     101,348.8800       1  \n",
       "1     112,542.5800       0  \n",
       "2     113,931.5700       1  \n",
       "3      93,826.6300       0  \n",
       "4      79,084.1000       0  "
      ]
     },
     "execution_count": 5,
     "metadata": {},
     "output_type": "execute_result"
    }
   ],
   "source": [
    "dfc.columns = [col.lower().replace(' ', '_') for col in dfc.columns]\n",
    "dfc.head(5)"
   ]
  },
  {
   "cell_type": "code",
   "execution_count": 6,
   "metadata": {},
   "outputs": [
    {
     "data": {
      "text/html": [
       "<div>\n",
       "<style scoped>\n",
       "    .dataframe tbody tr th:only-of-type {\n",
       "        vertical-align: middle;\n",
       "    }\n",
       "\n",
       "    .dataframe tbody tr th {\n",
       "        vertical-align: top;\n",
       "    }\n",
       "\n",
       "    .dataframe thead th {\n",
       "        text-align: right;\n",
       "    }\n",
       "</style>\n",
       "<table border=\"1\" class=\"dataframe\">\n",
       "  <thead>\n",
       "    <tr style=\"text-align: right;\">\n",
       "      <th></th>\n",
       "      <th>rownumber</th>\n",
       "      <th>customerid</th>\n",
       "      <th>creditscore</th>\n",
       "      <th>age</th>\n",
       "      <th>tenure</th>\n",
       "      <th>balance</th>\n",
       "      <th>numofproducts</th>\n",
       "      <th>hascrcard</th>\n",
       "      <th>isactivemember</th>\n",
       "      <th>estimatedsalary</th>\n",
       "      <th>exited</th>\n",
       "    </tr>\n",
       "  </thead>\n",
       "  <tbody>\n",
       "    <tr>\n",
       "      <th>count</th>\n",
       "      <td>10,000.0000</td>\n",
       "      <td>10,000.0000</td>\n",
       "      <td>10,000.0000</td>\n",
       "      <td>10,000.0000</td>\n",
       "      <td>9,091.0000</td>\n",
       "      <td>10,000.0000</td>\n",
       "      <td>10,000.0000</td>\n",
       "      <td>10,000.0000</td>\n",
       "      <td>10,000.0000</td>\n",
       "      <td>10,000.0000</td>\n",
       "      <td>10,000.0000</td>\n",
       "    </tr>\n",
       "    <tr>\n",
       "      <th>mean</th>\n",
       "      <td>5,000.5000</td>\n",
       "      <td>15,690,940.5694</td>\n",
       "      <td>650.5288</td>\n",
       "      <td>38.9218</td>\n",
       "      <td>4.9977</td>\n",
       "      <td>76,485.8893</td>\n",
       "      <td>1.5302</td>\n",
       "      <td>0.7055</td>\n",
       "      <td>0.5151</td>\n",
       "      <td>100,090.2399</td>\n",
       "      <td>0.2037</td>\n",
       "    </tr>\n",
       "    <tr>\n",
       "      <th>std</th>\n",
       "      <td>2,886.8957</td>\n",
       "      <td>71,936.1861</td>\n",
       "      <td>96.6533</td>\n",
       "      <td>10.4878</td>\n",
       "      <td>2.8947</td>\n",
       "      <td>62,397.4052</td>\n",
       "      <td>0.5817</td>\n",
       "      <td>0.4558</td>\n",
       "      <td>0.4998</td>\n",
       "      <td>57,510.4928</td>\n",
       "      <td>0.4028</td>\n",
       "    </tr>\n",
       "    <tr>\n",
       "      <th>min</th>\n",
       "      <td>1.0000</td>\n",
       "      <td>15,565,701.0000</td>\n",
       "      <td>350.0000</td>\n",
       "      <td>18.0000</td>\n",
       "      <td>0.0000</td>\n",
       "      <td>0.0000</td>\n",
       "      <td>1.0000</td>\n",
       "      <td>0.0000</td>\n",
       "      <td>0.0000</td>\n",
       "      <td>11.5800</td>\n",
       "      <td>0.0000</td>\n",
       "    </tr>\n",
       "    <tr>\n",
       "      <th>25%</th>\n",
       "      <td>2,500.7500</td>\n",
       "      <td>15,628,528.2500</td>\n",
       "      <td>584.0000</td>\n",
       "      <td>32.0000</td>\n",
       "      <td>2.0000</td>\n",
       "      <td>0.0000</td>\n",
       "      <td>1.0000</td>\n",
       "      <td>0.0000</td>\n",
       "      <td>0.0000</td>\n",
       "      <td>51,002.1100</td>\n",
       "      <td>0.0000</td>\n",
       "    </tr>\n",
       "    <tr>\n",
       "      <th>50%</th>\n",
       "      <td>5,000.5000</td>\n",
       "      <td>15,690,738.0000</td>\n",
       "      <td>652.0000</td>\n",
       "      <td>37.0000</td>\n",
       "      <td>5.0000</td>\n",
       "      <td>97,198.5400</td>\n",
       "      <td>1.0000</td>\n",
       "      <td>1.0000</td>\n",
       "      <td>1.0000</td>\n",
       "      <td>100,193.9150</td>\n",
       "      <td>0.0000</td>\n",
       "    </tr>\n",
       "    <tr>\n",
       "      <th>75%</th>\n",
       "      <td>7,500.2500</td>\n",
       "      <td>15,753,233.7500</td>\n",
       "      <td>718.0000</td>\n",
       "      <td>44.0000</td>\n",
       "      <td>7.0000</td>\n",
       "      <td>127,644.2400</td>\n",
       "      <td>2.0000</td>\n",
       "      <td>1.0000</td>\n",
       "      <td>1.0000</td>\n",
       "      <td>149,388.2475</td>\n",
       "      <td>0.0000</td>\n",
       "    </tr>\n",
       "    <tr>\n",
       "      <th>max</th>\n",
       "      <td>10,000.0000</td>\n",
       "      <td>15,815,690.0000</td>\n",
       "      <td>850.0000</td>\n",
       "      <td>92.0000</td>\n",
       "      <td>10.0000</td>\n",
       "      <td>250,898.0900</td>\n",
       "      <td>4.0000</td>\n",
       "      <td>1.0000</td>\n",
       "      <td>1.0000</td>\n",
       "      <td>199,992.4800</td>\n",
       "      <td>1.0000</td>\n",
       "    </tr>\n",
       "  </tbody>\n",
       "</table>\n",
       "</div>"
      ],
      "text/plain": [
       "        rownumber      customerid  creditscore         age     tenure  \\\n",
       "count 10,000.0000     10,000.0000  10,000.0000 10,000.0000 9,091.0000   \n",
       "mean   5,000.5000 15,690,940.5694     650.5288     38.9218     4.9977   \n",
       "std    2,886.8957     71,936.1861      96.6533     10.4878     2.8947   \n",
       "min        1.0000 15,565,701.0000     350.0000     18.0000     0.0000   \n",
       "25%    2,500.7500 15,628,528.2500     584.0000     32.0000     2.0000   \n",
       "50%    5,000.5000 15,690,738.0000     652.0000     37.0000     5.0000   \n",
       "75%    7,500.2500 15,753,233.7500     718.0000     44.0000     7.0000   \n",
       "max   10,000.0000 15,815,690.0000     850.0000     92.0000    10.0000   \n",
       "\n",
       "           balance  numofproducts   hascrcard  isactivemember  \\\n",
       "count  10,000.0000    10,000.0000 10,000.0000     10,000.0000   \n",
       "mean   76,485.8893         1.5302      0.7055          0.5151   \n",
       "std    62,397.4052         0.5817      0.4558          0.4998   \n",
       "min         0.0000         1.0000      0.0000          0.0000   \n",
       "25%         0.0000         1.0000      0.0000          0.0000   \n",
       "50%    97,198.5400         1.0000      1.0000          1.0000   \n",
       "75%   127,644.2400         2.0000      1.0000          1.0000   \n",
       "max   250,898.0900         4.0000      1.0000          1.0000   \n",
       "\n",
       "       estimatedsalary      exited  \n",
       "count      10,000.0000 10,000.0000  \n",
       "mean      100,090.2399      0.2037  \n",
       "std        57,510.4928      0.4028  \n",
       "min            11.5800      0.0000  \n",
       "25%        51,002.1100      0.0000  \n",
       "50%       100,193.9150      0.0000  \n",
       "75%       149,388.2475      0.0000  \n",
       "max       199,992.4800      1.0000  "
      ]
     },
     "execution_count": 6,
     "metadata": {},
     "output_type": "execute_result"
    }
   ],
   "source": [
    "dfc.describe()"
   ]
  },
  {
   "cell_type": "markdown",
   "metadata": {},
   "source": [
    "Наблюдается большой разброс в численном размере данных. Необходимо будет провести масштабирование, чтобы ограничить влияние слишком больших или малых значений переменных"
   ]
  },
  {
   "cell_type": "code",
   "execution_count": 7,
   "metadata": {},
   "outputs": [
    {
     "name": "stdout",
     "output_type": "stream",
     "text": [
      "Явных дубликатов: 0\n"
     ]
    }
   ],
   "source": [
    "print('Явных дубликатов:',dfc.duplicated().sum())"
   ]
  },
  {
   "cell_type": "code",
   "execution_count": 8,
   "metadata": {},
   "outputs": [
    {
     "name": "stdout",
     "output_type": "stream",
     "text": [
      "Пропусков в данных:\n",
      "rownumber            0\n",
      "customerid           0\n",
      "surname              0\n",
      "creditscore          0\n",
      "geography            0\n",
      "gender               0\n",
      "age                  0\n",
      "tenure             909\n",
      "balance              0\n",
      "numofproducts        0\n",
      "hascrcard            0\n",
      "isactivemember       0\n",
      "estimatedsalary      0\n",
      "exited               0\n",
      "dtype: int64\n"
     ]
    }
   ],
   "source": [
    "print('Пропусков в данных:')\n",
    "print(dfc.isna().sum())"
   ]
  },
  {
   "cell_type": "markdown",
   "metadata": {},
   "source": [
    "Столбец `Tenure` показывает, сколько лет человек был клиентом банка, если в данных пропуск, скорее всего данных о том, сколько человек был клиентом нет -\\\n",
    "значит можнос считать, что человек не был клиентом вообще.\\\n",
    "Заполним пропуски в этом столбце нулями (`0`). \\\n",
    "Также, думаю, лучше изменить тип столбца на `int`"
   ]
  },
  {
   "cell_type": "code",
   "execution_count": 9,
   "metadata": {},
   "outputs": [
    {
     "name": "stdout",
     "output_type": "stream",
     "text": [
      "Пропусков в данных: 0\n"
     ]
    }
   ],
   "source": [
    "dfc['tenure'] = dfc['tenure'].fillna(0).astype('int')\n",
    "\n",
    "print('Пропусков в данных:', dfc.isna().sum().sum())"
   ]
  },
  {
   "cell_type": "markdown",
   "metadata": {},
   "source": [
    "Чтобы лучше иметь представление о распределении числовых переменных составим графики распределений."
   ]
  },
  {
   "cell_type": "code",
   "execution_count": 10,
   "metadata": {},
   "outputs": [
    {
     "data": {
      "image/png": "[encoded data removed]",
      "text/plain": [
       "<Figure size 1080x1080 with 12 Axes>"
      ]
     },
     "metadata": {
      "needs_background": "light"
     },
     "output_type": "display_data"
    }
   ],
   "source": [
    "hist = dfc.hist(figsize=(15, 15), color='skyblue', bins=20)"
   ]
  },
  {
   "cell_type": "markdown",
   "metadata": {},
   "source": [
    "Получили представление о распределении числовых переменных.\\\n",
    "Ближе всего на нормальное распределение походят значения в `creditscore`"
   ]
  },
  {
   "cell_type": "markdown",
   "metadata": {},
   "source": [
    "#### Удаляем ненужные данные:"
   ]
  },
  {
   "cell_type": "code",
   "execution_count": 11,
   "metadata": {},
   "outputs": [
    {
     "data": {
      "text/html": [
       "<div>\n",
       "<style scoped>\n",
       "    .dataframe tbody tr th:only-of-type {\n",
       "        vertical-align: middle;\n",
       "    }\n",
       "\n",
       "    .dataframe tbody tr th {\n",
       "        vertical-align: top;\n",
       "    }\n",
       "\n",
       "    .dataframe thead th {\n",
       "        text-align: right;\n",
       "    }\n",
       "</style>\n",
       "<table border=\"1\" class=\"dataframe\">\n",
       "  <thead>\n",
       "    <tr style=\"text-align: right;\">\n",
       "      <th></th>\n",
       "      <th>creditscore</th>\n",
       "      <th>geography</th>\n",
       "      <th>gender</th>\n",
       "      <th>age</th>\n",
       "      <th>tenure</th>\n",
       "      <th>balance</th>\n",
       "      <th>numofproducts</th>\n",
       "      <th>hascrcard</th>\n",
       "      <th>isactivemember</th>\n",
       "      <th>estimatedsalary</th>\n",
       "      <th>exited</th>\n",
       "    </tr>\n",
       "  </thead>\n",
       "  <tbody>\n",
       "    <tr>\n",
       "      <th>3720</th>\n",
       "      <td>473</td>\n",
       "      <td>Germany</td>\n",
       "      <td>Male</td>\n",
       "      <td>40</td>\n",
       "      <td>8</td>\n",
       "      <td>152,576.2500</td>\n",
       "      <td>2</td>\n",
       "      <td>1</td>\n",
       "      <td>0</td>\n",
       "      <td>73,073.6800</td>\n",
       "      <td>0</td>\n",
       "    </tr>\n",
       "    <tr>\n",
       "      <th>9675</th>\n",
       "      <td>735</td>\n",
       "      <td>Spain</td>\n",
       "      <td>Male</td>\n",
       "      <td>39</td>\n",
       "      <td>1</td>\n",
       "      <td>60,374.9800</td>\n",
       "      <td>1</td>\n",
       "      <td>1</td>\n",
       "      <td>0</td>\n",
       "      <td>40,223.7400</td>\n",
       "      <td>0</td>\n",
       "    </tr>\n",
       "    <tr>\n",
       "      <th>5966</th>\n",
       "      <td>508</td>\n",
       "      <td>France</td>\n",
       "      <td>Female</td>\n",
       "      <td>43</td>\n",
       "      <td>9</td>\n",
       "      <td>0.0000</td>\n",
       "      <td>1</td>\n",
       "      <td>1</td>\n",
       "      <td>0</td>\n",
       "      <td>103,726.7100</td>\n",
       "      <td>0</td>\n",
       "    </tr>\n",
       "    <tr>\n",
       "      <th>7865</th>\n",
       "      <td>691</td>\n",
       "      <td>Spain</td>\n",
       "      <td>Male</td>\n",
       "      <td>30</td>\n",
       "      <td>9</td>\n",
       "      <td>0.0000</td>\n",
       "      <td>2</td>\n",
       "      <td>0</td>\n",
       "      <td>1</td>\n",
       "      <td>10,963.0400</td>\n",
       "      <td>0</td>\n",
       "    </tr>\n",
       "    <tr>\n",
       "      <th>4866</th>\n",
       "      <td>522</td>\n",
       "      <td>Germany</td>\n",
       "      <td>Female</td>\n",
       "      <td>37</td>\n",
       "      <td>3</td>\n",
       "      <td>95,022.5700</td>\n",
       "      <td>1</td>\n",
       "      <td>1</td>\n",
       "      <td>1</td>\n",
       "      <td>129,107.5900</td>\n",
       "      <td>0</td>\n",
       "    </tr>\n",
       "    <tr>\n",
       "      <th>337</th>\n",
       "      <td>649</td>\n",
       "      <td>France</td>\n",
       "      <td>Male</td>\n",
       "      <td>33</td>\n",
       "      <td>2</td>\n",
       "      <td>0.0000</td>\n",
       "      <td>2</td>\n",
       "      <td>1</td>\n",
       "      <td>0</td>\n",
       "      <td>2,010.9800</td>\n",
       "      <td>0</td>\n",
       "    </tr>\n",
       "    <tr>\n",
       "      <th>594</th>\n",
       "      <td>779</td>\n",
       "      <td>Spain</td>\n",
       "      <td>Female</td>\n",
       "      <td>26</td>\n",
       "      <td>4</td>\n",
       "      <td>174,318.1300</td>\n",
       "      <td>2</td>\n",
       "      <td>0</td>\n",
       "      <td>1</td>\n",
       "      <td>38,296.2100</td>\n",
       "      <td>0</td>\n",
       "    </tr>\n",
       "    <tr>\n",
       "      <th>7893</th>\n",
       "      <td>642</td>\n",
       "      <td>France</td>\n",
       "      <td>Male</td>\n",
       "      <td>40</td>\n",
       "      <td>8</td>\n",
       "      <td>109,219.8300</td>\n",
       "      <td>1</td>\n",
       "      <td>1</td>\n",
       "      <td>0</td>\n",
       "      <td>52,827.5100</td>\n",
       "      <td>0</td>\n",
       "    </tr>\n",
       "    <tr>\n",
       "      <th>1293</th>\n",
       "      <td>641</td>\n",
       "      <td>France</td>\n",
       "      <td>Male</td>\n",
       "      <td>30</td>\n",
       "      <td>2</td>\n",
       "      <td>87,505.4700</td>\n",
       "      <td>2</td>\n",
       "      <td>0</td>\n",
       "      <td>1</td>\n",
       "      <td>7,278.5700</td>\n",
       "      <td>0</td>\n",
       "    </tr>\n",
       "    <tr>\n",
       "      <th>1077</th>\n",
       "      <td>658</td>\n",
       "      <td>France</td>\n",
       "      <td>Male</td>\n",
       "      <td>29</td>\n",
       "      <td>3</td>\n",
       "      <td>145,512.8400</td>\n",
       "      <td>1</td>\n",
       "      <td>1</td>\n",
       "      <td>0</td>\n",
       "      <td>20,207.0200</td>\n",
       "      <td>0</td>\n",
       "    </tr>\n",
       "  </tbody>\n",
       "</table>\n",
       "</div>"
      ],
      "text/plain": [
       "      creditscore geography  gender  age  tenure      balance  numofproducts  \\\n",
       "3720          473   Germany    Male   40       8 152,576.2500              2   \n",
       "9675          735     Spain    Male   39       1  60,374.9800              1   \n",
       "5966          508    France  Female   43       9       0.0000              1   \n",
       "7865          691     Spain    Male   30       9       0.0000              2   \n",
       "4866          522   Germany  Female   37       3  95,022.5700              1   \n",
       "337           649    France    Male   33       2       0.0000              2   \n",
       "594           779     Spain  Female   26       4 174,318.1300              2   \n",
       "7893          642    France    Male   40       8 109,219.8300              1   \n",
       "1293          641    France    Male   30       2  87,505.4700              2   \n",
       "1077          658    France    Male   29       3 145,512.8400              1   \n",
       "\n",
       "      hascrcard  isactivemember  estimatedsalary  exited  \n",
       "3720          1               0      73,073.6800       0  \n",
       "9675          1               0      40,223.7400       0  \n",
       "5966          1               0     103,726.7100       0  \n",
       "7865          0               1      10,963.0400       0  \n",
       "4866          1               1     129,107.5900       0  \n",
       "337           1               0       2,010.9800       0  \n",
       "594           0               1      38,296.2100       0  \n",
       "7893          1               0      52,827.5100       0  \n",
       "1293          0               1       7,278.5700       0  \n",
       "1077          1               0      20,207.0200       0  "
      ]
     },
     "execution_count": 11,
     "metadata": {},
     "output_type": "execute_result"
    }
   ],
   "source": [
    "dfc = dfc.drop(['rownumber', 'customerid', 'surname'], axis=1)\n",
    "dfc.sample(10)"
   ]
  },
  {
   "cell_type": "markdown",
   "metadata": {},
   "source": [
    "#### Проверим данные на мультиколлинеарность"
   ]
  },
  {
   "cell_type": "markdown",
   "metadata": {},
   "source": [
    "С помощью тепловой карты"
   ]
  },
  {
   "cell_type": "code",
   "execution_count": 12,
   "metadata": {},
   "outputs": [
    {
     "data": {
      "image/png": "[encoded data removed]",
      "text/plain": [
       "<Figure size 720x576 with 2 Axes>"
      ]
     },
     "metadata": {
      "needs_background": "light"
     },
     "output_type": "display_data"
    }
   ],
   "source": [
    "# Построим тепловую карту корреляционной матрицы\n",
    "corr_matrix = dfc.corr()\n",
    "plt.figure(figsize=(10, 8))\n",
    "sns.heatmap(corr_matrix, annot=True, cmap='coolwarm')\n",
    "plt.show()"
   ]
  },
  {
   "cell_type": "markdown",
   "metadata": {},
   "source": [
    "### Вывод \n",
    "* Загрузили данные и библиотеки.\n",
    "* Заполнили пропуски `0` - тк скорее всего отсутсвующие значения говорят о том, что человек не клиент.\n",
    "* Привели названия переменных в приемлимый формат.\n",
    "* Получили представление о распределении числовых переменных.\n",
    "* Наметили ход работы:\n",
    "  * Применим *One-Hot Encoding* к категореальным переменным - `geography` и `gender`\n",
    "  * Масштабируем числовые переменные\n",
    "* Ближе всего на нормальное распределение походят значения в `creditscore`\n",
    "* Проверка на мультиколлинеарность не выявила таковой."
   ]
  },
  {
   "cell_type": "markdown",
   "metadata": {},
   "source": [
    "## Исследование задачи"
   ]
  },
  {
   "cell_type": "markdown",
   "metadata": {},
   "source": [
    "#### Метод OHE"
   ]
  },
  {
   "cell_type": "code",
   "execution_count": 13,
   "metadata": {},
   "outputs": [
    {
     "name": "stdout",
     "output_type": "stream",
     "text": [
      "Уникальные значение столбца Gender: ['Female' 'Male']\n",
      "Уникальные значение столбца Geography: ['France' 'Spain' 'Germany']\n"
     ]
    }
   ],
   "source": [
    "print('Уникальные значение столбца Gender:',dfc['gender'].unique())\n",
    "print('Уникальные значение столбца Geography:',dfc['geography'].unique())"
   ]
  },
  {
   "cell_type": "markdown",
   "metadata": {},
   "source": [
    "Применив метод OHE:\n",
    "* Столбец `gender` содержит 2 класса - параметр `drop_first` вернет нам 1 столбец.\n",
    "* Столбец `geography` содержит 3 класса - соотвественно будет 2 столбца."
   ]
  },
  {
   "cell_type": "code",
   "execution_count": 14,
   "metadata": {},
   "outputs": [
    {
     "name": "stdout",
     "output_type": "stream",
     "text": [
      "(10000, 12)\n"
     ]
    },
    {
     "data": {
      "text/html": [
       "<div>\n",
       "<style scoped>\n",
       "    .dataframe tbody tr th:only-of-type {\n",
       "        vertical-align: middle;\n",
       "    }\n",
       "\n",
       "    .dataframe tbody tr th {\n",
       "        vertical-align: top;\n",
       "    }\n",
       "\n",
       "    .dataframe thead th {\n",
       "        text-align: right;\n",
       "    }\n",
       "</style>\n",
       "<table border=\"1\" class=\"dataframe\">\n",
       "  <thead>\n",
       "    <tr style=\"text-align: right;\">\n",
       "      <th></th>\n",
       "      <th>creditscore</th>\n",
       "      <th>age</th>\n",
       "      <th>tenure</th>\n",
       "      <th>balance</th>\n",
       "      <th>numofproducts</th>\n",
       "      <th>hascrcard</th>\n",
       "      <th>isactivemember</th>\n",
       "      <th>estimatedsalary</th>\n",
       "      <th>exited</th>\n",
       "      <th>geography_Germany</th>\n",
       "      <th>geography_Spain</th>\n",
       "      <th>gender_Male</th>\n",
       "    </tr>\n",
       "  </thead>\n",
       "  <tbody>\n",
       "    <tr>\n",
       "      <th>9696</th>\n",
       "      <td>550</td>\n",
       "      <td>32</td>\n",
       "      <td>8</td>\n",
       "      <td>97,514.0700</td>\n",
       "      <td>1</td>\n",
       "      <td>1</td>\n",
       "      <td>1</td>\n",
       "      <td>199,138.8400</td>\n",
       "      <td>0</td>\n",
       "      <td>0</td>\n",
       "      <td>0</td>\n",
       "      <td>1</td>\n",
       "    </tr>\n",
       "    <tr>\n",
       "      <th>6117</th>\n",
       "      <td>850</td>\n",
       "      <td>37</td>\n",
       "      <td>2</td>\n",
       "      <td>0.0000</td>\n",
       "      <td>2</td>\n",
       "      <td>1</td>\n",
       "      <td>0</td>\n",
       "      <td>119,969.9900</td>\n",
       "      <td>0</td>\n",
       "      <td>0</td>\n",
       "      <td>1</td>\n",
       "      <td>1</td>\n",
       "    </tr>\n",
       "    <tr>\n",
       "      <th>6689</th>\n",
       "      <td>630</td>\n",
       "      <td>41</td>\n",
       "      <td>7</td>\n",
       "      <td>107,511.5200</td>\n",
       "      <td>1</td>\n",
       "      <td>0</td>\n",
       "      <td>1</td>\n",
       "      <td>46,156.8700</td>\n",
       "      <td>0</td>\n",
       "      <td>0</td>\n",
       "      <td>1</td>\n",
       "      <td>1</td>\n",
       "    </tr>\n",
       "    <tr>\n",
       "      <th>4246</th>\n",
       "      <td>617</td>\n",
       "      <td>30</td>\n",
       "      <td>8</td>\n",
       "      <td>0.0000</td>\n",
       "      <td>1</td>\n",
       "      <td>1</td>\n",
       "      <td>1</td>\n",
       "      <td>92,621.9000</td>\n",
       "      <td>0</td>\n",
       "      <td>0</td>\n",
       "      <td>0</td>\n",
       "      <td>0</td>\n",
       "    </tr>\n",
       "    <tr>\n",
       "      <th>2310</th>\n",
       "      <td>781</td>\n",
       "      <td>32</td>\n",
       "      <td>0</td>\n",
       "      <td>147,107.9100</td>\n",
       "      <td>1</td>\n",
       "      <td>1</td>\n",
       "      <td>1</td>\n",
       "      <td>40,066.9500</td>\n",
       "      <td>0</td>\n",
       "      <td>0</td>\n",
       "      <td>0</td>\n",
       "      <td>1</td>\n",
       "    </tr>\n",
       "  </tbody>\n",
       "</table>\n",
       "</div>"
      ],
      "text/plain": [
       "      creditscore  age  tenure      balance  numofproducts  hascrcard  \\\n",
       "9696          550   32       8  97,514.0700              1          1   \n",
       "6117          850   37       2       0.0000              2          1   \n",
       "6689          630   41       7 107,511.5200              1          0   \n",
       "4246          617   30       8       0.0000              1          1   \n",
       "2310          781   32       0 147,107.9100              1          1   \n",
       "\n",
       "      isactivemember  estimatedsalary  exited  geography_Germany  \\\n",
       "9696               1     199,138.8400       0                  0   \n",
       "6117               0     119,969.9900       0                  0   \n",
       "6689               1      46,156.8700       0                  0   \n",
       "4246               1      92,621.9000       0                  0   \n",
       "2310               1      40,066.9500       0                  0   \n",
       "\n",
       "      geography_Spain  gender_Male  \n",
       "9696                0            1  \n",
       "6117                1            1  \n",
       "6689                1            1  \n",
       "4246                0            0  \n",
       "2310                0            1  "
      ]
     },
     "execution_count": 14,
     "metadata": {},
     "output_type": "execute_result"
    }
   ],
   "source": [
    "dfc = pd.get_dummies(dfc, drop_first=True)\n",
    "print(dfc.shape)\n",
    "dfc.sample(5)"
   ]
  },
  {
   "cell_type": "markdown",
   "metadata": {},
   "source": [
    "### Создание выборок - обучающей (60%), тестовой (20%) и валидационной (20%)\n"
   ]
  },
  {
   "cell_type": "markdown",
   "metadata": {},
   "source": [
    "Таргет признак - `exited`, он показывает: остался ли клиент в банке или ушел.\\\n",
    "Именно для предсказания этого признака мы будем строить и испытывать модели."
   ]
  },
  {
   "cell_type": "code",
   "execution_count": 15,
   "metadata": {},
   "outputs": [],
   "source": [
    "features = dfc.drop('exited', axis=1) \n",
    "target = dfc['exited']"
   ]
  },
  {
   "cell_type": "code",
   "execution_count": 16,
   "metadata": {},
   "outputs": [
    {
     "name": "stdout",
     "output_type": "stream",
     "text": [
      "<class 'pandas.core.frame.DataFrame'>\n",
      "RangeIndex: 10000 entries, 0 to 9999\n",
      "Data columns (total 11 columns):\n",
      " #   Column             Non-Null Count  Dtype  \n",
      "---  ------             --------------  -----  \n",
      " 0   creditscore        10000 non-null  int64  \n",
      " 1   age                10000 non-null  int64  \n",
      " 2   tenure             10000 non-null  int64  \n",
      " 3   balance            10000 non-null  float64\n",
      " 4   numofproducts      10000 non-null  int64  \n",
      " 5   hascrcard          10000 non-null  int64  \n",
      " 6   isactivemember     10000 non-null  int64  \n",
      " 7   estimatedsalary    10000 non-null  float64\n",
      " 8   geography_Germany  10000 non-null  uint8  \n",
      " 9   geography_Spain    10000 non-null  uint8  \n",
      " 10  gender_Male        10000 non-null  uint8  \n",
      "dtypes: float64(2), int64(6), uint8(3)\n",
      "memory usage: 654.4 KB\n"
     ]
    }
   ],
   "source": [
    "features.info()"
   ]
  },
  {
   "cell_type": "code",
   "execution_count": null,
   "metadata": {},
   "outputs": [],
   "source": []
  },
  {
   "cell_type": "code",
   "execution_count": 17,
   "metadata": {},
   "outputs": [
    {
     "name": "stdout",
     "output_type": "stream",
     "text": [
      "Изначальный размер: 10000\n",
      "Train size: 6000\n",
      "Test size: 2000\n",
      "Validation size: 2000\n"
     ]
    }
   ],
   "source": [
    "# Разбиение на обучающую выборку и временную выборку\n",
    "features_train, features_temp, target_train, target_temp = train_test_split(\n",
    "    features, target, test_size=0.4, random_state=12345)\n",
    "\n",
    "# Разбиение временной выборки на тестовую и валидационную выборки\n",
    "features_test, features_valid, target_test, target_valid = train_test_split(\n",
    "    features_temp, target_temp, test_size=0.5, random_state=12345)\n",
    "\n",
    "# Проверка размеров выборок\n",
    "print(\"Изначальный размер:\", len(dfc))\n",
    "print(\"Train size:\", len(features_train))\n",
    "print(\"Test size:\", len(features_test))\n",
    "print(\"Validation size:\", len(features_valid))"
   ]
  },
  {
   "cell_type": "markdown",
   "metadata": {},
   "source": [
    "### Масштабирование выборок"
   ]
  },
  {
   "cell_type": "markdown",
   "metadata": {},
   "source": [
    "Для масштабирования данных, нам следует использовать `StandardScaler` из библиотеки `scikit-learn`. \\\n",
    "Главное правило при масштабировании: мы должны обучать масштабировщик только на обучающем наборе данных и применять тот же масштаб к остальным выборкам. \\\n",
    "Это предотвращает \"утечку\" информации из тестовой и валидационной выборок во время процесса обучения."
   ]
  },
  {
   "cell_type": "code",
   "execution_count": 18,
   "metadata": {},
   "outputs": [],
   "source": [
    "scaler = StandardScaler()\n",
    "numeric = ['creditscore', 'age', 'tenure', 'balance', 'numofproducts', 'estimatedsalary']\n",
    "# Обучим scaler только на обучающем наборе данных\n",
    "scaler.fit(features_train[numeric])\n",
    "\n",
    "features_train[numeric] = scaler.transform(features_train[numeric])\n",
    "features_valid[numeric] = scaler.transform(features_valid[numeric])\n",
    "features_test[numeric] = scaler.transform(features_test[numeric])"
   ]
  },
  {
   "cell_type": "markdown",
   "metadata": {},
   "source": [
    "Перед построением модели и нахождением лучшей, задача стоит, чтобы построить модели ДО и ПОСЛЕ нейтрализации дисбаланса в переменной exited. \\\n",
    "Оценим этот дисбаланс."
   ]
  },
  {
   "cell_type": "code",
   "execution_count": 19,
   "metadata": {},
   "outputs": [
    {
     "data": {
      "image/png": "[encoded data removed]",
      "text/plain": [
       "<Figure size 576x432 with 1 Axes>"
      ]
     },
     "metadata": {
      "needs_background": "light"
     },
     "output_type": "display_data"
    }
   ],
   "source": [
    "# Построение столбчатой диаграммы\n",
    "class_counts = dfc['exited'].value_counts()\n",
    "plt.figure(figsize=(8, 6))\n",
    "class_counts.plot(kind='bar', color=['blue', 'red'])\n",
    "plt.title('Распределение классов в target (exited)')\n",
    "plt.xlabel('Класс')\n",
    "plt.ylabel('Количество')\n",
    "plt.xticks(rotation=0)  # Поворачиваем подписи на оси X для лучшего отображения\n",
    "plt.show()"
   ]
  },
  {
   "cell_type": "markdown",
   "metadata": {},
   "source": [
    "Вот это да! Показателя `0` - почти в 4 раза больше.\\\n",
    "Интересно, как улучшится качество моделей ДО и ПОСЛЕ устранения дисбаланса."
   ]
  },
  {
   "cell_type": "markdown",
   "metadata": {},
   "source": [
    "### Создание моделей С дисбалансом"
   ]
  },
  {
   "cell_type": "markdown",
   "metadata": {},
   "source": [
    "В рамках задачи оценивать модели необходимо с помощью AUC-ROC (Area Under the Receiver Operating Characteristic Curve) и F1-score \\\n",
    " — это метрики качества для оценки работы моделей классификации. Они особенно полезны, когда в данных присутствует дисбаланс классов.\n",
    " * AUC (Area Under the Curve) – это площадь, заключенная под ROC-кривой. ROC-кривая (Receiver Operating Characteristic curve) – это график, который показывает зависимость TPR (True Positive Rate) от FPR (False Positive Rate) при различных порогах классификации.\n",
    " * F1-score — это гармоническое среднее между точностью (precision) и полнотой (recall). То есть это среднее значение двух других метрик, учитывающее и верные положительные предсказания, и ложные положительные, и ложные отрицательные предсказания."
   ]
  },
  {
   "cell_type": "markdown",
   "metadata": {},
   "source": [
    "#### Модель древа решений"
   ]
  },
  {
   "cell_type": "code",
   "execution_count": 20,
   "metadata": {},
   "outputs": [
    {
     "name": "stdout",
     "output_type": "stream",
     "text": [
      "Лучшая глубина: 9\n",
      "Accuracy на валидационной выборке: 0.835\n",
      "F1-score на валидационной выборке: 0.538\n",
      "AUC-ROC на валидационной выборке: 0.784\n"
     ]
    }
   ],
   "source": [
    "# Переменные для хранения лучших значений\n",
    "best_model = None\n",
    "best_accuracy = 0\n",
    "best_f1 = 0\n",
    "best_auc_roc = 0\n",
    "best_depth = 0\n",
    "\n",
    "# Проверяем модели с глубиной от 1 до 20\n",
    "for depth in range(1, 21):\n",
    "    model = DecisionTreeClassifier(max_depth=depth, random_state=12345)\n",
    "    model.fit(features_train, target_train)\n",
    "    \n",
    "    predictions_valid = model.predict(features_valid)\n",
    "    probability_valid = model.predict_proba(features_valid)[:,1]\n",
    "    \n",
    "    current_accuracy = accuracy_score(target_valid, predictions_valid)\n",
    "    current_f1 = f1_score(target_valid, predictions_valid)\n",
    "    current_auc_roc = roc_auc_score(target_valid, probability_valid)\n",
    "    \n",
    "    if current_f1 > best_f1:  # оптимизируем по F1, но можно выбрать другую метрику\n",
    "        best_model = model\n",
    "        best_accuracy = current_accuracy\n",
    "        best_f1 = current_f1\n",
    "        best_auc_roc = current_auc_roc\n",
    "        best_depth = depth\n",
    "\n",
    "print(f\"Лучшая глубина: {best_depth}\")\n",
    "print(f\"Accuracy на валидационной выборке: {best_accuracy:.3f}\")\n",
    "print(f\"F1-score на валидационной выборке: {best_f1:.3f}\")\n",
    "print(f\"AUC-ROC на валидационной выборке: {best_auc_roc:.3f}\")"
   ]
  },
  {
   "cell_type": "markdown",
   "metadata": {},
   "source": [
    "##### Построим ROC-кривую для лучшей модели Древа Решений"
   ]
  },
  {
   "cell_type": "code",
   "execution_count": 21,
   "metadata": {},
   "outputs": [],
   "source": [
    "# Получение вероятностей классов\n",
    "probabilities = best_model.predict_proba(features_valid)[:, 1]\n",
    "\n",
    "# Вычисление TPR и FPR для различных пороговых значений\n",
    "fpr, tpr, thresholds = roc_curve(target_valid, probabilities)"
   ]
  },
  {
   "cell_type": "code",
   "execution_count": 22,
   "metadata": {},
   "outputs": [
    {
     "data": {
      "image/png": "[encoded data removed]",
      "text/plain": [
       "<Figure size 576x576 with 1 Axes>"
      ]
     },
     "metadata": {
      "needs_background": "light"
     },
     "output_type": "display_data"
    },
    {
     "name": "stdout",
     "output_type": "stream",
     "text": [
      "AUC-ROC Score: 0.7844\n"
     ]
    }
   ],
   "source": [
    "plt.figure(figsize=(8, 8))\n",
    "plt.plot(fpr, tpr, label='ROC curve')\n",
    "plt.plot([0, 1], [0, 1], linestyle='--')\n",
    "plt.xlim([0.0, 1.0])\n",
    "plt.ylim([0.0, 1.05])\n",
    "plt.xlabel('False Positive Rate')\n",
    "plt.ylabel('True Positive Rate')\n",
    "plt.title('Receiver operating characteristic (ROC)')\n",
    "plt.legend(loc=\"lower right\")\n",
    "plt.show()\n",
    "\n",
    "# Вывод значения AUC\n",
    "auc_score = roc_auc_score(target_valid, probabilities)\n",
    "print(f\"AUC-ROC Score: {auc_score:.4f}\")"
   ]
  },
  {
   "cell_type": "markdown",
   "metadata": {},
   "source": [
    "##### Вывод:\n",
    "* Наша модель показывает неплохую способность разделять классы, что подтверждается значением AUC-ROC в 0.784.\n",
    "* Однако F1-мера в 0.538 говорит о том, что модель имеет потенциал к улучшению в плане сбалансированности между точностью и полнотой, особенно если положительный класс имеет важное значение."
   ]
  },
  {
   "cell_type": "code",
   "execution_count": 23,
   "metadata": {},
   "outputs": [],
   "source": [
    "# Создадим таблицу, куда будем сохранять показатели лучших моделей ДО и ПОСЛЕ устранения дисбаланса, удобнее будет сравнивать\n",
    "results = pd.DataFrame(columns=['Model', 'Before/After', 'Best Parameters', 'Accuracy', 'F1-score', 'AUC-ROC'])"
   ]
  },
  {
   "cell_type": "code",
   "execution_count": 24,
   "metadata": {},
   "outputs": [],
   "source": [
    "results = results.append({'Model': 'Decision Tree',\n",
    "                          'Before/After': 'Before',\n",
    "                          'Best Parameters': best_depth,\n",
    "                          'Accuracy': best_accuracy,\n",
    "                          'F1-score': best_f1,\n",
    "                          'AUC-ROC': best_auc_roc}, ignore_index=True)"
   ]
  },
  {
   "cell_type": "code",
   "execution_count": 25,
   "metadata": {},
   "outputs": [
    {
     "data": {
      "text/html": [
       "<div>\n",
       "<style scoped>\n",
       "    .dataframe tbody tr th:only-of-type {\n",
       "        vertical-align: middle;\n",
       "    }\n",
       "\n",
       "    .dataframe tbody tr th {\n",
       "        vertical-align: top;\n",
       "    }\n",
       "\n",
       "    .dataframe thead th {\n",
       "        text-align: right;\n",
       "    }\n",
       "</style>\n",
       "<table border=\"1\" class=\"dataframe\">\n",
       "  <thead>\n",
       "    <tr style=\"text-align: right;\">\n",
       "      <th></th>\n",
       "      <th>Model</th>\n",
       "      <th>Before/After</th>\n",
       "      <th>Best Parameters</th>\n",
       "      <th>Accuracy</th>\n",
       "      <th>F1-score</th>\n",
       "      <th>AUC-ROC</th>\n",
       "    </tr>\n",
       "  </thead>\n",
       "  <tbody>\n",
       "    <tr>\n",
       "      <th>0</th>\n",
       "      <td>Decision Tree</td>\n",
       "      <td>Before</td>\n",
       "      <td>9</td>\n",
       "      <td>0.8350</td>\n",
       "      <td>0.5378</td>\n",
       "      <td>0.7844</td>\n",
       "    </tr>\n",
       "  </tbody>\n",
       "</table>\n",
       "</div>"
      ],
      "text/plain": [
       "           Model Before/After Best Parameters  Accuracy  F1-score  AUC-ROC\n",
       "0  Decision Tree       Before               9    0.8350    0.5378   0.7844"
      ]
     },
     "execution_count": 25,
     "metadata": {},
     "output_type": "execute_result"
    }
   ],
   "source": [
    "results.head()"
   ]
  },
  {
   "cell_type": "markdown",
   "metadata": {},
   "source": [
    "#### Модель случайного леса"
   ]
  },
  {
   "cell_type": "code",
   "execution_count": 26,
   "metadata": {},
   "outputs": [
    {
     "name": "stdout",
     "output_type": "stream",
     "text": [
      "Лучшее кол-во деревьев: 30, Лучшая глубина: 15\n",
      "Точность: 0.8500, F1-score: 0.5468, AUC-ROC: 0.8434\n"
     ]
    }
   ],
   "source": [
    "best_accuracy = 0\n",
    "best_f1 = 0\n",
    "best_auc_roc = 0\n",
    "best_depth = 0\n",
    "best_est = 0\n",
    "\n",
    "# Диапазоны гиперпараметров для поиска\n",
    "estimators = [10, 30, 50, 70, 100]\n",
    "max_depths = [5, 6, 7, 8, 9, 10, 11, 12, 15]\n",
    "\n",
    "# Перебор гиперпараметров\n",
    "for est in estimators:\n",
    "    for depth in max_depths:\n",
    "        model = RandomForestClassifier(n_estimators=est, max_depth=depth, random_state=12345)\n",
    "        model.fit(features_train, target_train)\n",
    "        predictions_valid = model.predict(features_valid)\n",
    "        \n",
    "        accuracy = accuracy_score(target_valid, predictions_valid)\n",
    "        f1 = f1_score(target_valid, predictions_valid)\n",
    "        probabilities_valid = model.predict_proba(features_valid)[:,1]\n",
    "        auc_roc = roc_auc_score(target_valid, probabilities_valid)\n",
    "        \n",
    "        # Если текущий F1 лучше предыдущего лучшего, обновляем значения\n",
    "        if f1 > best_f1:\n",
    "            best_accuracy = accuracy\n",
    "            best_f1 = f1\n",
    "            best_auc_roc = auc_roc\n",
    "            best_depth = depth\n",
    "            best_est = est\n",
    "\n",
    "print(f\"Лучшее кол-во деревьев: {best_est}, Лучшая глубина: {best_depth}\")\n",
    "print(f\"Точность: {best_accuracy:.4f}, F1-score: {best_f1:.4f}, AUC-ROC: {best_auc_roc:.4f}\")"
   ]
  },
  {
   "cell_type": "code",
   "execution_count": 27,
   "metadata": {},
   "outputs": [
    {
     "data": {
      "image/png": "[encoded data removed]",
      "text/plain": [
       "<Figure size 576x432 with 1 Axes>"
      ]
     },
     "metadata": {
      "needs_background": "light"
     },
     "output_type": "display_data"
    }
   ],
   "source": [
    "best_model = RandomForestClassifier(n_estimators=best_est, max_depth=best_depth, random_state=12345)\n",
    "best_model.fit(features_train, target_train)\n",
    "\n",
    "# Предсказание вероятностей положительного класса\n",
    "probabilities_valid = best_model.predict_proba(features_valid)[:, 1]\n",
    "\n",
    "# Получим значения FPR и TPR\n",
    "fpr, tpr, thresholds = roc_curve(target_valid, probabilities_valid)\n",
    "# Построим график ROC-кривой\n",
    "plt.figure(figsize=(8, 6))\n",
    "plt.plot(fpr, tpr, label='ROC-кривая')\n",
    "plt.plot([0, 1], [0, 1], linestyle='--')\n",
    "plt.xlim([0.0, 1.0])\n",
    "plt.ylim([0.0, 1.0])\n",
    "plt.xlabel('False Positive Rate')\n",
    "plt.ylabel('True Positive Rate')\n",
    "plt.title('ROC-кривая для Случайного Леса')\n",
    "plt.legend(loc=\"lower right\")\n",
    "plt.show()"
   ]
  },
  {
   "cell_type": "markdown",
   "metadata": {},
   "source": [
    "##### Вывод\n",
    "* Учитывая дисбаланс классов, модель демонстрирует неплохие результаты. \\\n",
    "Однако возможно есть потенциал для дальнейшего улучшения, особенно в плане увеличения F1-score. AUC-ROC подтверждает, что модель обладает хорошей способностью разделять классы, но всегда стоит искать возможные способы оптимизации модели."
   ]
  },
  {
   "cell_type": "code",
   "execution_count": 28,
   "metadata": {},
   "outputs": [],
   "source": [
    "# Занесем результаты в таблицу\n",
    "results = results.append({'Model': 'Random Forest',\n",
    "                          'Before/After': 'Before',\n",
    "                          'Best Parameters': best_depth,\n",
    "                          'Accuracy': best_accuracy,\n",
    "                          'F1-score': best_f1,\n",
    "                          'AUC-ROC': best_auc_roc}, ignore_index=True)\n",
    "results['n_est'] = 0\n",
    "results.loc[1, 'n_est'] = best_est"
   ]
  },
  {
   "cell_type": "code",
   "execution_count": 29,
   "metadata": {},
   "outputs": [
    {
     "data": {
      "text/html": [
       "<div>\n",
       "<style scoped>\n",
       "    .dataframe tbody tr th:only-of-type {\n",
       "        vertical-align: middle;\n",
       "    }\n",
       "\n",
       "    .dataframe tbody tr th {\n",
       "        vertical-align: top;\n",
       "    }\n",
       "\n",
       "    .dataframe thead th {\n",
       "        text-align: right;\n",
       "    }\n",
       "</style>\n",
       "<table border=\"1\" class=\"dataframe\">\n",
       "  <thead>\n",
       "    <tr style=\"text-align: right;\">\n",
       "      <th></th>\n",
       "      <th>Model</th>\n",
       "      <th>Before/After</th>\n",
       "      <th>Best Parameters</th>\n",
       "      <th>Accuracy</th>\n",
       "      <th>F1-score</th>\n",
       "      <th>AUC-ROC</th>\n",
       "      <th>n_est</th>\n",
       "    </tr>\n",
       "  </thead>\n",
       "  <tbody>\n",
       "    <tr>\n",
       "      <th>0</th>\n",
       "      <td>Decision Tree</td>\n",
       "      <td>Before</td>\n",
       "      <td>9</td>\n",
       "      <td>0.8350</td>\n",
       "      <td>0.5378</td>\n",
       "      <td>0.7844</td>\n",
       "      <td>0</td>\n",
       "    </tr>\n",
       "    <tr>\n",
       "      <th>1</th>\n",
       "      <td>Random Forest</td>\n",
       "      <td>Before</td>\n",
       "      <td>15</td>\n",
       "      <td>0.8500</td>\n",
       "      <td>0.5468</td>\n",
       "      <td>0.8434</td>\n",
       "      <td>30</td>\n",
       "    </tr>\n",
       "  </tbody>\n",
       "</table>\n",
       "</div>"
      ],
      "text/plain": [
       "           Model Before/After Best Parameters  Accuracy  F1-score  AUC-ROC  \\\n",
       "0  Decision Tree       Before               9    0.8350    0.5378   0.7844   \n",
       "1  Random Forest       Before              15    0.8500    0.5468   0.8434   \n",
       "\n",
       "   n_est  \n",
       "0      0  \n",
       "1     30  "
      ]
     },
     "execution_count": 29,
     "metadata": {},
     "output_type": "execute_result"
    }
   ],
   "source": [
    "results.head()"
   ]
  },
  {
   "cell_type": "markdown",
   "metadata": {},
   "source": [
    "#### Модель логистической регресии"
   ]
  },
  {
   "cell_type": "code",
   "execution_count": 30,
   "metadata": {},
   "outputs": [
    {
     "name": "stdout",
     "output_type": "stream",
     "text": [
      "Accuracy: 0.7910\n",
      "F1-score: 0.2743\n",
      "AUC-ROC: 0.7387\n"
     ]
    },
    {
     "data": {
      "image/png": "[encoded data removed]",
      "text/plain": [
       "<Figure size 432x288 with 1 Axes>"
      ]
     },
     "metadata": {
      "needs_background": "light"
     },
     "output_type": "display_data"
    }
   ],
   "source": [
    "# Создание и обучение модели\n",
    "logreg_model = LogisticRegression(random_state=12345, solver='liblinear')\n",
    "logreg_model.fit(features_train, target_train)\n",
    "\n",
    "# Прогнозирование\n",
    "predicted_valid = logreg_model.predict(features_valid)\n",
    "probabilities_valid = logreg_model.predict_proba(features_valid)[:, 1]\n",
    "\n",
    "# Оценка метрик\n",
    "accuracy = accuracy_score(target_valid, predicted_valid)\n",
    "f1 = f1_score(target_valid, predicted_valid)\n",
    "roc_auc = roc_auc_score(target_valid, probabilities_valid)\n",
    "\n",
    "print(f\"Accuracy: {accuracy:.4f}\")\n",
    "print(f\"F1-score: {f1:.4f}\")\n",
    "print(f\"AUC-ROC: {roc_auc:.4f}\")\n",
    "\n",
    "# Построение ROC-кривой\n",
    "fpr, tpr, thresholds = roc_curve(target_valid, probabilities_valid)\n",
    "\n",
    "plt.figure()\n",
    "plt.plot(fpr, tpr, label=f'Logistic Regression (area = {roc_auc:.2f})')\n",
    "plt.plot([0, 1], [0, 1], linestyle='--')\n",
    "plt.xlim([0.0, 1.0])\n",
    "plt.ylim([0.0, 1.05])\n",
    "plt.xlabel('False Positive Rate')\n",
    "plt.ylabel('True Positive Rate')\n",
    "plt.title('ROC-curve')\n",
    "plt.legend(loc=\"lower right\")\n",
    "plt.show()"
   ]
  },
  {
   "cell_type": "markdown",
   "metadata": {},
   "source": [
    "##### Выводы\n",
    "* В нашем случае точность составляет 79.10%, что может казаться приличным результатом. Но без учета дисбаланса классов это может быть просто результатом того, что модель преимущественно прогнозирует наиболее распространенный класс.\n",
    "* Низкое значение F1-score (0.2743) указывает на то, что либо точность, либо полнота (или оба значения) довольно низкие. Это указывает на проблемы с качеством модели, особенно при дисбалансе классов.\n",
    "* В целом, наличие дисбаланса классов делает точность менее полезной метрикой, и это лучше всего видно на F1-score, который относительно низкий. "
   ]
  },
  {
   "cell_type": "code",
   "execution_count": 31,
   "metadata": {},
   "outputs": [
    {
     "data": {
      "text/html": [
       "<div>\n",
       "<style scoped>\n",
       "    .dataframe tbody tr th:only-of-type {\n",
       "        vertical-align: middle;\n",
       "    }\n",
       "\n",
       "    .dataframe tbody tr th {\n",
       "        vertical-align: top;\n",
       "    }\n",
       "\n",
       "    .dataframe thead th {\n",
       "        text-align: right;\n",
       "    }\n",
       "</style>\n",
       "<table border=\"1\" class=\"dataframe\">\n",
       "  <thead>\n",
       "    <tr style=\"text-align: right;\">\n",
       "      <th></th>\n",
       "      <th>Model</th>\n",
       "      <th>Before/After</th>\n",
       "      <th>Best Parameters</th>\n",
       "      <th>Accuracy</th>\n",
       "      <th>F1-score</th>\n",
       "      <th>AUC-ROC</th>\n",
       "      <th>n_est</th>\n",
       "    </tr>\n",
       "  </thead>\n",
       "  <tbody>\n",
       "    <tr>\n",
       "      <th>0</th>\n",
       "      <td>Decision Tree</td>\n",
       "      <td>Before</td>\n",
       "      <td>9</td>\n",
       "      <td>0.8350</td>\n",
       "      <td>0.5378</td>\n",
       "      <td>0.7844</td>\n",
       "      <td>0.0000</td>\n",
       "    </tr>\n",
       "    <tr>\n",
       "      <th>1</th>\n",
       "      <td>Random Forest</td>\n",
       "      <td>Before</td>\n",
       "      <td>15</td>\n",
       "      <td>0.8500</td>\n",
       "      <td>0.5468</td>\n",
       "      <td>0.8434</td>\n",
       "      <td>30.0000</td>\n",
       "    </tr>\n",
       "    <tr>\n",
       "      <th>2</th>\n",
       "      <td>Logistic Regression</td>\n",
       "      <td>Before</td>\n",
       "      <td>0</td>\n",
       "      <td>0.7910</td>\n",
       "      <td>0.2743</td>\n",
       "      <td>0.7387</td>\n",
       "      <td>NaN</td>\n",
       "    </tr>\n",
       "  </tbody>\n",
       "</table>\n",
       "</div>"
      ],
      "text/plain": [
       "                 Model Before/After Best Parameters  Accuracy  F1-score  \\\n",
       "0        Decision Tree       Before               9    0.8350    0.5378   \n",
       "1        Random Forest       Before              15    0.8500    0.5468   \n",
       "2  Logistic Regression       Before               0    0.7910    0.2743   \n",
       "\n",
       "   AUC-ROC   n_est  \n",
       "0   0.7844  0.0000  \n",
       "1   0.8434 30.0000  \n",
       "2   0.7387     NaN  "
      ]
     },
     "execution_count": 31,
     "metadata": {},
     "output_type": "execute_result"
    }
   ],
   "source": [
    "# Занесем результаты в таблицу\n",
    "results = results = results.append({'Model': 'Logistic Regression',\n",
    "                          'Before/After': 'Before',\n",
    "                          'Best Parameters': 0,\n",
    "                          'Accuracy': accuracy,\n",
    "                          'F1-score': f1,\n",
    "                          'AUC-ROC': roc_auc}, ignore_index=True)\n",
    "results.head()"
   ]
  },
  {
   "cell_type": "markdown",
   "metadata": {},
   "source": [
    "#### Вывод по каждой из трех моделей:\n",
    "\n",
    "* Дерево решений (*Decision Tree Classifier*):\n",
    "   * Точность (Accuracy): 0.7885\n",
    "   * F1-score: 0.5380\n",
    "   * AUC-ROC: 0.7840 \\\n",
    "Дерево решений показывает среднюю способность к классификации. Несмотря на то что точность довольно высока, F1-score указывает на то, что модель имеет трудности с балансировкой между точностью и полнотой, особенно при дисбалансе классов. AUC-ROC показывает неплохую способность модели различать положительные и отрицательные классы.\n",
    "\\\n",
    "* Случайный лес (*Random Forest Classifier*):\n",
    "   * Точность (Accuracy): 0.8500\n",
    "   * F1-score: 0.5468\n",
    "   * AUC-ROC: 0.8434 \\\n",
    "Случайный лес показывает лучшие результаты по сравнению с деревом решений по всем метрикам. Высокая точность и более высокий AUC-ROC указывают на более хорошую способность модели различать классы. Тем не менее, F1-score все еще не идеален, что подтверждает проблемы с дисбалансом классов.\n",
    "\\\n",
    "* Логистическая регрессия (*Logistic Regression*):\n",
    "   * Точность (Accuracy): 0.7910\n",
    "   * F1-score: 0.2743\n",
    "   * AUC-ROC: 0.7387 \\\n",
    "Логистическая регрессия показывает наименьшее значение F1-score среди всех трех моделей. Это указывает на значительные проблемы с дисбалансом классов. AUC-ROC также ниже, чем у двух других моделей.\n",
    "* **Общий вывод**: \\\n",
    "Среди всех моделей, случайный лес показывает наилучшие результаты до устранения дисбаланса классов. Однако все модели сталкиваются с проблемами, связанными с дисбалансом классов, что особенно заметно по метрике F1-score. Чтобы улучшить качество модели, необходимо устранить дисбаланс классов и возможно переобучить модели."
   ]
  },
  {
   "cell_type": "markdown",
   "metadata": {},
   "source": [
    "### Борьба с дисбалансом и обновленные модели"
   ]
  },
  {
   "cell_type": "markdown",
   "metadata": {},
   "source": [
    "Используем 2 метода\n",
    "* Ресемплинг:\n",
    "   * Восходящий ресемплинг (Upsampling): Увеличение количества примеров в меньшем классе путем дублирования некоторых из них или создания новых синтетических примеров. Одним из популярных методов создания синтетических примеров является метод SMOTE (Synthetic Minority Over-sampling Technique).\n",
    "   * Нисходящий ресемплинг (Downsampling): Уменьшение количества примеров в большем классе путем их удаления."
   ]
  },
  {
   "cell_type": "code",
   "execution_count": 32,
   "metadata": {},
   "outputs": [],
   "source": [
    "if target.value_counts()[0] > target.value_counts()[1]:\n",
    "    majority_class = 0\n",
    "    minority_class = 1\n",
    "else:\n",
    "    majority_class = 1\n",
    "    minority_class = 0"
   ]
  },
  {
   "cell_type": "markdown",
   "metadata": {},
   "source": [
    "`minority_class` и `majority_class` в контексте ресемплинга обычно обозначают классы с меньшим и большим количеством объектов соответственно. \\\n",
    "В бинарной классификации, если один класс значительно меньше другого по размеру, он считается меньшинством или \"minority\". Напротив, класс с большим количеством объектов считается большинством или \"majority\"."
   ]
  },
  {
   "cell_type": "code",
   "execution_count": 33,
   "metadata": {},
   "outputs": [
    {
     "name": "stdout",
     "output_type": "stream",
     "text": [
      "0    7963\n",
      "1    2037\n",
      "Name: exited, dtype: int64\n",
      "0    7963\n",
      "1    7963\n",
      "Name: exited, dtype: int64\n",
      "0    2037\n",
      "1    2037\n",
      "Name: exited, dtype: int64\n"
     ]
    }
   ],
   "source": [
    "data_combined = pd.concat([features, target], axis=1)\n",
    "\n",
    "# Выделяем меньший и больший классы\n",
    "majority = data_combined[data_combined['exited'] == majority_class]\n",
    "minority = data_combined[data_combined['exited'] == minority_class]\n",
    "\n",
    "# Upsampling\n",
    "minority_upsampled = resample(minority,\n",
    "                              replace=True,\n",
    "                              n_samples=len(majority),\n",
    "                              random_state=12345)\n",
    "\n",
    "data_upsampled = pd.concat([majority, minority_upsampled])\n",
    "\n",
    "# Downsampling\n",
    "majority_downsampled = resample(majority,\n",
    "                                replace=False,\n",
    "                                n_samples=len(minority),\n",
    "                                random_state=42)\n",
    "\n",
    "data_downsampled = pd.concat([majority_downsampled, minority])\n",
    "\n",
    "print(dfc['exited'].value_counts())\n",
    "# Проверим распределение классов после upsampling\n",
    "print(data_upsampled['exited'].value_counts())\n",
    "\n",
    "# Проверим распределение классов после downsampling\n",
    "print(data_downsampled['exited'].value_counts())"
   ]
  },
  {
   "cell_type": "markdown",
   "metadata": {},
   "source": [
    "Наглядно визуализируем данные до устранения дисбаланса и дисбаланс устраненный двумя способами"
   ]
  },
  {
   "cell_type": "code",
   "execution_count": 34,
   "metadata": {},
   "outputs": [
    {
     "data": {
      "image/png": "[encoded data removed]",
      "text/plain": [
       "<Figure size 432x288 with 1 Axes>"
      ]
     },
     "metadata": {
      "needs_background": "light"
     },
     "output_type": "display_data"
    },
    {
     "data": {
      "image/png": "[encoded data removed]",
      "text/plain": [
       "<Figure size 432x288 with 1 Axes>"
      ]
     },
     "metadata": {
      "needs_background": "light"
     },
     "output_type": "display_data"
    },
    {
     "data": {
      "image/png": "[encoded data removed]",
      "text/plain": [
       "<Figure size 432x288 with 1 Axes>"
      ]
     },
     "metadata": {
      "needs_background": "light"
     },
     "output_type": "display_data"
    }
   ],
   "source": [
    "def plot_target_distribution(data, title):\n",
    "    data['exited'].value_counts().plot(kind='bar', color=['skyblue', 'salmon'])\n",
    "    plt.title(title)\n",
    "    plt.xlabel('Class')\n",
    "    plt.ylabel('Count')\n",
    "    plt.xticks(rotation=0)\n",
    "    plt.show()\n",
    "\n",
    "# График распределения до ресемплинга\n",
    "plot_target_distribution(data_combined, 'До устранения дисбаланса')\n",
    "\n",
    "# График распределения после upsampling\n",
    "plot_target_distribution(data_upsampled, 'Устранение апсемплингом')\n",
    "\n",
    "# График распределения после downsampling\n",
    "plot_target_distribution(data_downsampled, 'Устранение даунсемплингом')"
   ]
  },
  {
   "cell_type": "markdown",
   "metadata": {},
   "source": [
    "Создадим модели с учетом сбалансированной выборки. Сбалансируем обучающую, обучим на ней модель, проверим на валидационной."
   ]
  },
  {
   "cell_type": "code",
   "execution_count": 35,
   "metadata": {},
   "outputs": [
    {
     "data": {
      "text/html": [
       "<div>\n",
       "<style scoped>\n",
       "    .dataframe tbody tr th:only-of-type {\n",
       "        vertical-align: middle;\n",
       "    }\n",
       "\n",
       "    .dataframe tbody tr th {\n",
       "        vertical-align: top;\n",
       "    }\n",
       "\n",
       "    .dataframe thead th {\n",
       "        text-align: right;\n",
       "    }\n",
       "</style>\n",
       "<table border=\"1\" class=\"dataframe\">\n",
       "  <thead>\n",
       "    <tr style=\"text-align: right;\">\n",
       "      <th></th>\n",
       "      <th>creditscore</th>\n",
       "      <th>age</th>\n",
       "      <th>tenure</th>\n",
       "      <th>balance</th>\n",
       "      <th>numofproducts</th>\n",
       "      <th>hascrcard</th>\n",
       "      <th>isactivemember</th>\n",
       "      <th>estimatedsalary</th>\n",
       "      <th>geography_Germany</th>\n",
       "      <th>geography_Spain</th>\n",
       "      <th>gender_Male</th>\n",
       "    </tr>\n",
       "  </thead>\n",
       "  <tbody>\n",
       "    <tr>\n",
       "      <th>2711</th>\n",
       "      <td>-0.4610</td>\n",
       "      <td>-1.0375</td>\n",
       "      <td>1.4264</td>\n",
       "      <td>-1.2332</td>\n",
       "      <td>0.8302</td>\n",
       "      <td>1</td>\n",
       "      <td>1</td>\n",
       "      <td>0.4428</td>\n",
       "      <td>0</td>\n",
       "      <td>0</td>\n",
       "      <td>0</td>\n",
       "    </tr>\n",
       "    <tr>\n",
       "      <th>9277</th>\n",
       "      <td>-0.2014</td>\n",
       "      <td>-0.9426</td>\n",
       "      <td>0.7830</td>\n",
       "      <td>-1.2332</td>\n",
       "      <td>-0.8916</td>\n",
       "      <td>1</td>\n",
       "      <td>1</td>\n",
       "      <td>0.5322</td>\n",
       "      <td>0</td>\n",
       "      <td>0</td>\n",
       "      <td>1</td>\n",
       "    </tr>\n",
       "    <tr>\n",
       "      <th>9514</th>\n",
       "      <td>2.0002</td>\n",
       "      <td>-1.0375</td>\n",
       "      <td>1.4264</td>\n",
       "      <td>-1.2332</td>\n",
       "      <td>0.8302</td>\n",
       "      <td>1</td>\n",
       "      <td>1</td>\n",
       "      <td>-0.7501</td>\n",
       "      <td>0</td>\n",
       "      <td>0</td>\n",
       "      <td>0</td>\n",
       "    </tr>\n",
       "    <tr>\n",
       "      <th>9480</th>\n",
       "      <td>-0.6167</td>\n",
       "      <td>-0.5630</td>\n",
       "      <td>-1.4687</td>\n",
       "      <td>0.3112</td>\n",
       "      <td>-0.8916</td>\n",
       "      <td>1</td>\n",
       "      <td>0</td>\n",
       "      <td>1.7316</td>\n",
       "      <td>0</td>\n",
       "      <td>0</td>\n",
       "      <td>0</td>\n",
       "    </tr>\n",
       "    <tr>\n",
       "      <th>263</th>\n",
       "      <td>0.3075</td>\n",
       "      <td>-1.2273</td>\n",
       "      <td>-1.4687</td>\n",
       "      <td>0.5483</td>\n",
       "      <td>-0.8916</td>\n",
       "      <td>0</td>\n",
       "      <td>1</td>\n",
       "      <td>0.2144</td>\n",
       "      <td>0</td>\n",
       "      <td>0</td>\n",
       "      <td>0</td>\n",
       "    </tr>\n",
       "  </tbody>\n",
       "</table>\n",
       "</div>"
      ],
      "text/plain": [
       "      creditscore     age  tenure  balance  numofproducts  hascrcard  \\\n",
       "2711      -0.4610 -1.0375  1.4264  -1.2332         0.8302          1   \n",
       "9277      -0.2014 -0.9426  0.7830  -1.2332        -0.8916          1   \n",
       "9514       2.0002 -1.0375  1.4264  -1.2332         0.8302          1   \n",
       "9480      -0.6167 -0.5630 -1.4687   0.3112        -0.8916          1   \n",
       "263        0.3075 -1.2273 -1.4687   0.5483        -0.8916          0   \n",
       "\n",
       "      isactivemember  estimatedsalary  geography_Germany  geography_Spain  \\\n",
       "2711               1           0.4428                  0                0   \n",
       "9277               1           0.5322                  0                0   \n",
       "9514               1          -0.7501                  0                0   \n",
       "9480               0           1.7316                  0                0   \n",
       "263                1           0.2144                  0                0   \n",
       "\n",
       "      gender_Male  \n",
       "2711            0  \n",
       "9277            1  \n",
       "9514            0  \n",
       "9480            0  \n",
       "263             0  "
      ]
     },
     "metadata": {},
     "output_type": "display_data"
    },
    {
     "data": {
      "text/plain": [
       "2711    0\n",
       "9277    0\n",
       "9514    0\n",
       "9480    0\n",
       "263     0\n",
       "Name: exited, dtype: int64"
      ]
     },
     "metadata": {},
     "output_type": "display_data"
    }
   ],
   "source": [
    "minority = features_train[target_train == 1]\n",
    "majority = features_train[target_train == 0]\n",
    "\n",
    "# Производим downsample мажорного класса\n",
    "majority_downsampled = resample(majority, \n",
    "                                replace=False, \n",
    "                                n_samples=len(minority), \n",
    "                                random_state=12345)\n",
    "\n",
    "# Объединяем минорный класс с downsampled версией мажорного класса\n",
    "features_train_resampled = pd.concat([majority_downsampled, minority])\n",
    "target_train_resampled = target_train[features_train_resampled.index]\n",
    "display(features_train_resampled.head(5))\n",
    "display(target_train_resampled.head(5))"
   ]
  },
  {
   "cell_type": "code",
   "execution_count": 56,
   "metadata": {},
   "outputs": [
    {
     "name": "stdout",
     "output_type": "stream",
     "text": [
      "Количество положительных классов (1): 1196\n",
      "Количество отрицательных классов (0): 1196\n"
     ]
    }
   ],
   "source": [
    "# Создадим DataFrame из выборок\n",
    "data_resampled = pd.DataFrame(features_train_resampled, columns=features.columns)\n",
    "data_resampled['exited'] = target_train_resampled\n",
    "\n",
    "# Подсчет количества положительных и отрицательных классов\n",
    "class_counts = data_resampled['exited'].value_counts()\n",
    "\n",
    "print(\"Количество положительных классов (1):\", class_counts[1])\n",
    "print(\"Количество отрицательных классов (0):\", class_counts[0])"
   ]
  },
  {
   "cell_type": "code",
   "execution_count": 36,
   "metadata": {},
   "outputs": [
    {
     "name": "stdout",
     "output_type": "stream",
     "text": [
      "После upsampling:\n",
      "0    7963\n",
      "1    7963\n",
      "Name: exited, dtype: int64\n",
      "\n",
      "После downsampling:\n",
      "0    2037\n",
      "1    2037\n",
      "Name: exited, dtype: int64\n"
     ]
    }
   ],
   "source": [
    "print(\"После upsampling:\")\n",
    "print(data_upsampled['exited'].value_counts())\n",
    "\n",
    "# Проверка баланса после downsampling\n",
    "print(\"\\nПосле downsampling:\")\n",
    "print(data_downsampled['exited'].value_counts())"
   ]
  },
  {
   "cell_type": "markdown",
   "metadata": {},
   "source": [
    "#### Сбалансированное древо "
   ]
  },
  {
   "cell_type": "code",
   "execution_count": 37,
   "metadata": {},
   "outputs": [
    {
     "name": "stdout",
     "output_type": "stream",
     "text": [
      "F1-score наилучшей модели на валидационной выборке: 0.6074380165289257\n",
      "Глубина наилучшей модели: 5\n",
      "Accuracy наилучшей модели на валидационной выборке: 0.81\n",
      "AUC-ROC наилучшей модели: 0.8371844976022043\n"
     ]
    }
   ],
   "source": [
    "best_model = None\n",
    "best_result = 0\n",
    "best_depth = 0\n",
    "best_accuracy = 0\n",
    "\n",
    "for depth in range(1, 21): # проверяем глубину дерева от 1 до 20\n",
    "    model = DecisionTreeClassifier(random_state=12345, max_depth=depth)\n",
    "    model.fit(features_train_resampled, target_train_resampled)\n",
    "    \n",
    "    predictions_valid = model.predict(features_valid)\n",
    "    result = f1_score(target_valid, predictions_valid)\n",
    "    \n",
    "    accuracy = accuracy_score(target_valid, predictions_valid) # Расчет accuracy\n",
    "    \n",
    "    if result > best_result:\n",
    "        best_model = model\n",
    "        best_result = result\n",
    "        best_depth = depth\n",
    "        best_accuracy = accuracy\n",
    "\n",
    "print(\"F1-score наилучшей модели на валидационной выборке:\", best_result)\n",
    "print(\"Глубина наилучшей модели:\", best_depth)\n",
    "print(\"Accuracy наилучшей модели на валидационной выборке:\", best_accuracy)  # Выводим accuracy наилучшей модели\n",
    "\n",
    "# Расчёт AUC-ROC\n",
    "probabilities_valid = best_model.predict_proba(features_valid)\n",
    "probabilities_one_valid = probabilities_valid[:, 1]\n",
    "auc_roc = roc_auc_score(target_valid, probabilities_one_valid)\n",
    "print(\"AUC-ROC наилучшей модели:\", auc_roc)"
   ]
  },
  {
   "cell_type": "code",
   "execution_count": 38,
   "metadata": {},
   "outputs": [
    {
     "data": {
      "image/png": "[encoded data removed]",
      "text/plain": [
       "<Figure size 576x576 with 1 Axes>"
      ]
     },
     "metadata": {
      "needs_background": "light"
     },
     "output_type": "display_data"
    },
    {
     "name": "stdout",
     "output_type": "stream",
     "text": [
      "AUC-ROC Score: 0.8372\n"
     ]
    }
   ],
   "source": [
    "# Предсказываем вероятности классов для валидационной выборки\n",
    "probabilities_valid = best_model.predict_proba(features_valid)\n",
    "probabilities_one_valid = probabilities_valid[:, 1]\n",
    "\n",
    "# Получаем значения для ROC-кривой и AUC-ROC\n",
    "fpr, tpr, thresholds = roc_curve(target_valid, probabilities_one_valid)\n",
    "plt.figure(figsize=(8, 8))\n",
    "plt.plot(fpr, tpr)\n",
    "# ROC-кривая случайной модели (полезно для сравнения)\n",
    "plt.plot([0, 1], [0, 1], linestyle='--')\n",
    "plt.xlim([0.0, 1.0])\n",
    "plt.ylim([0.0, 1.0])\n",
    "plt.xlabel('False Positive Rate')\n",
    "plt.ylabel('True Positive Rate')\n",
    "plt.title('ROC-curve')\n",
    "plt.show()\n",
    "print(f\"AUC-ROC Score: {auc_roc:.4f}\")"
   ]
  },
  {
   "cell_type": "markdown",
   "metadata": {},
   "source": [
    "##### Вывод\n",
    "* F1-score: Улучшение в F1-score после устранения дисбаланса классов говорит о том, что модель стала лучше определять положительный класс (является миноритарным классом до устранения дисбаланса).\n",
    "\n",
    "* AUC-ROC: Улучшение в AUC-ROC указывает на то, что качество модели по отношению к ранжированию наблюдений улучшилось. Это означает, что модель стала более уверенной в своих прогнозах.\n",
    "* Глубина дерева определяет его сложность (была 9 стала 5). После ресемплинга, кажется, модели не требуется такая глубокая структура для хорошего прогнозирования. Это может говорить о том, что модель до ресемплинга была переобучена на преобладающий класс и требовала большей глубины для того, чтобы уловить нюансы в минорном классе.\n",
    "* Точность осталось примерно такой же, значт общая способность модели правильно классифицировать объекты не ухудшилась."
   ]
  },
  {
   "cell_type": "code",
   "execution_count": 39,
   "metadata": {},
   "outputs": [
    {
     "data": {
      "text/html": [
       "<div>\n",
       "<style scoped>\n",
       "    .dataframe tbody tr th:only-of-type {\n",
       "        vertical-align: middle;\n",
       "    }\n",
       "\n",
       "    .dataframe tbody tr th {\n",
       "        vertical-align: top;\n",
       "    }\n",
       "\n",
       "    .dataframe thead th {\n",
       "        text-align: right;\n",
       "    }\n",
       "</style>\n",
       "<table border=\"1\" class=\"dataframe\">\n",
       "  <thead>\n",
       "    <tr style=\"text-align: right;\">\n",
       "      <th></th>\n",
       "      <th>Model</th>\n",
       "      <th>Before/After</th>\n",
       "      <th>Best Parameters</th>\n",
       "      <th>Accuracy</th>\n",
       "      <th>F1-score</th>\n",
       "      <th>AUC-ROC</th>\n",
       "      <th>n_est</th>\n",
       "    </tr>\n",
       "  </thead>\n",
       "  <tbody>\n",
       "    <tr>\n",
       "      <th>0</th>\n",
       "      <td>Decision Tree</td>\n",
       "      <td>Before</td>\n",
       "      <td>9</td>\n",
       "      <td>0.8350</td>\n",
       "      <td>0.5378</td>\n",
       "      <td>0.7844</td>\n",
       "      <td>0.0000</td>\n",
       "    </tr>\n",
       "    <tr>\n",
       "      <th>1</th>\n",
       "      <td>Random Forest</td>\n",
       "      <td>Before</td>\n",
       "      <td>15</td>\n",
       "      <td>0.8500</td>\n",
       "      <td>0.5468</td>\n",
       "      <td>0.8434</td>\n",
       "      <td>30.0000</td>\n",
       "    </tr>\n",
       "    <tr>\n",
       "      <th>2</th>\n",
       "      <td>Logistic Regression</td>\n",
       "      <td>Before</td>\n",
       "      <td>0</td>\n",
       "      <td>0.7910</td>\n",
       "      <td>0.2743</td>\n",
       "      <td>0.7387</td>\n",
       "      <td>NaN</td>\n",
       "    </tr>\n",
       "    <tr>\n",
       "      <th>3</th>\n",
       "      <td>Decision Tree</td>\n",
       "      <td>After</td>\n",
       "      <td>5</td>\n",
       "      <td>0.8100</td>\n",
       "      <td>0.6074</td>\n",
       "      <td>0.8372</td>\n",
       "      <td>NaN</td>\n",
       "    </tr>\n",
       "  </tbody>\n",
       "</table>\n",
       "</div>"
      ],
      "text/plain": [
       "                 Model Before/After Best Parameters  Accuracy  F1-score  \\\n",
       "0        Decision Tree       Before               9    0.8350    0.5378   \n",
       "1        Random Forest       Before              15    0.8500    0.5468   \n",
       "2  Logistic Regression       Before               0    0.7910    0.2743   \n",
       "3        Decision Tree        After               5    0.8100    0.6074   \n",
       "\n",
       "   AUC-ROC   n_est  \n",
       "0   0.7844  0.0000  \n",
       "1   0.8434 30.0000  \n",
       "2   0.7387     NaN  \n",
       "3   0.8372     NaN  "
      ]
     },
     "execution_count": 39,
     "metadata": {},
     "output_type": "execute_result"
    }
   ],
   "source": [
    "# Добавим результаты в таблицу\n",
    "results = results = results.append({'Model': 'Decision Tree',\n",
    "                          'Before/After': 'After',\n",
    "                          'Best Parameters': best_depth,\n",
    "                          'Accuracy': best_accuracy,\n",
    "                          'F1-score': best_result,\n",
    "                          'AUC-ROC': auc_roc}, ignore_index=True)\n",
    "results.head()"
   ]
  },
  {
   "cell_type": "markdown",
   "metadata": {},
   "source": [
    "#### Сбалансированный лес"
   ]
  },
  {
   "cell_type": "code",
   "execution_count": 40,
   "metadata": {},
   "outputs": [
    {
     "name": "stdout",
     "output_type": "stream",
     "text": [
      "Наилучший F1-score: 0.5932203389830508\n",
      "Наилучший AUC-ROC: 0.8479607118282763\n",
      "Наилучшая точность: 0.784\n",
      "Глубина наилучшей модели: 9\n",
      "Количество деревьев наилучшей модели: 100\n"
     ]
    }
   ],
   "source": [
    "best_rf_model = None\n",
    "best_rf_result = 0\n",
    "best_rf_depth = 0\n",
    "best_rf_n_estimators = 0\n",
    "best_rf_accuracy = 0\n",
    "best_rf_auc_roc = 0\n",
    "\n",
    "# Перебор параметров\n",
    "for est in range(10, 101, 10): # количество деревьев от 10 до 100 с шагом 10\n",
    "    for depth in range(1, 21): # глубина дерева от 1 до 20\n",
    "        model = RandomForestClassifier(random_state=12345, n_estimators=est, max_depth=depth)\n",
    "        model.fit(features_train_resampled, target_train_resampled)\n",
    "        \n",
    "        predictions_valid = model.predict(features_valid)\n",
    "        result_f1 = f1_score(target_valid, predictions_valid)\n",
    "        accuracy = accuracy_score(target_valid, predictions_valid)\n",
    "        \n",
    "        # Расчёт AUC-ROC\n",
    "        probabilities_valid = model.predict_proba(features_valid)\n",
    "        probabilities_one_valid = probabilities_valid[:, 1]\n",
    "        auc_roc = roc_auc_score(target_valid, probabilities_one_valid)\n",
    "        \n",
    "        # Поиск лучшей модели\n",
    "        if result_f1 > best_rf_result:\n",
    "            best_rf_model = model\n",
    "            best_rf_result = result_f1\n",
    "            best_rf_depth = depth\n",
    "            best_rf_n_estimators = est\n",
    "            best_rf_accuracy = accuracy\n",
    "            best_rf_auc_roc = auc_roc\n",
    "\n",
    "print(\"Наилучший F1-score:\", best_rf_result)\n",
    "print(\"Наилучший AUC-ROC:\", best_rf_auc_roc)\n",
    "print(\"Наилучшая точность:\", best_rf_accuracy)\n",
    "print(\"Глубина наилучшей модели:\", best_rf_depth)\n",
    "print(\"Количество деревьев наилучшей модели:\", best_rf_n_estimators)"
   ]
  },
  {
   "cell_type": "code",
   "execution_count": 41,
   "metadata": {},
   "outputs": [
    {
     "data": {
      "text/html": [
       "<div>\n",
       "<style scoped>\n",
       "    .dataframe tbody tr th:only-of-type {\n",
       "        vertical-align: middle;\n",
       "    }\n",
       "\n",
       "    .dataframe tbody tr th {\n",
       "        vertical-align: top;\n",
       "    }\n",
       "\n",
       "    .dataframe thead th {\n",
       "        text-align: right;\n",
       "    }\n",
       "</style>\n",
       "<table border=\"1\" class=\"dataframe\">\n",
       "  <thead>\n",
       "    <tr style=\"text-align: right;\">\n",
       "      <th></th>\n",
       "      <th>Model</th>\n",
       "      <th>Before/After</th>\n",
       "      <th>Best Parameters</th>\n",
       "      <th>Accuracy</th>\n",
       "      <th>F1-score</th>\n",
       "      <th>AUC-ROC</th>\n",
       "      <th>n_est</th>\n",
       "    </tr>\n",
       "  </thead>\n",
       "  <tbody>\n",
       "    <tr>\n",
       "      <th>0</th>\n",
       "      <td>Decision Tree</td>\n",
       "      <td>Before</td>\n",
       "      <td>9</td>\n",
       "      <td>0.8350</td>\n",
       "      <td>0.5378</td>\n",
       "      <td>0.7844</td>\n",
       "      <td>0.0000</td>\n",
       "    </tr>\n",
       "    <tr>\n",
       "      <th>1</th>\n",
       "      <td>Random Forest</td>\n",
       "      <td>Before</td>\n",
       "      <td>15</td>\n",
       "      <td>0.8500</td>\n",
       "      <td>0.5468</td>\n",
       "      <td>0.8434</td>\n",
       "      <td>30.0000</td>\n",
       "    </tr>\n",
       "    <tr>\n",
       "      <th>2</th>\n",
       "      <td>Logistic Regression</td>\n",
       "      <td>Before</td>\n",
       "      <td>0</td>\n",
       "      <td>0.7910</td>\n",
       "      <td>0.2743</td>\n",
       "      <td>0.7387</td>\n",
       "      <td>NaN</td>\n",
       "    </tr>\n",
       "    <tr>\n",
       "      <th>3</th>\n",
       "      <td>Decision Tree</td>\n",
       "      <td>After</td>\n",
       "      <td>5</td>\n",
       "      <td>0.8100</td>\n",
       "      <td>0.6074</td>\n",
       "      <td>0.8372</td>\n",
       "      <td>NaN</td>\n",
       "    </tr>\n",
       "    <tr>\n",
       "      <th>4</th>\n",
       "      <td>Random Forest</td>\n",
       "      <td>After</td>\n",
       "      <td>9</td>\n",
       "      <td>0.7840</td>\n",
       "      <td>0.5932</td>\n",
       "      <td>0.8480</td>\n",
       "      <td>100.0000</td>\n",
       "    </tr>\n",
       "  </tbody>\n",
       "</table>\n",
       "</div>"
      ],
      "text/plain": [
       "                 Model Before/After Best Parameters  Accuracy  F1-score  \\\n",
       "0        Decision Tree       Before               9    0.8350    0.5378   \n",
       "1        Random Forest       Before              15    0.8500    0.5468   \n",
       "2  Logistic Regression       Before               0    0.7910    0.2743   \n",
       "3        Decision Tree        After               5    0.8100    0.6074   \n",
       "4        Random Forest        After               9    0.7840    0.5932   \n",
       "\n",
       "   AUC-ROC    n_est  \n",
       "0   0.7844   0.0000  \n",
       "1   0.8434  30.0000  \n",
       "2   0.7387      NaN  \n",
       "3   0.8372      NaN  \n",
       "4   0.8480 100.0000  "
      ]
     },
     "execution_count": 41,
     "metadata": {},
     "output_type": "execute_result"
    }
   ],
   "source": [
    "# Сразу добавим данные в таблицу\n",
    "results = results.append({'Model': 'Random Forest',\n",
    "                          'Before/After': 'After',\n",
    "                          'Best Parameters': best_rf_depth,\n",
    "                          'Accuracy': best_rf_accuracy,\n",
    "                          'F1-score': best_rf_result,\n",
    "                          'AUC-ROC': best_rf_auc_roc,\n",
    "                          'n_est': best_rf_n_estimators}, ignore_index=True)\n",
    "results.head(6)"
   ]
  },
  {
   "cell_type": "code",
   "execution_count": 42,
   "metadata": {},
   "outputs": [
    {
     "data": {
      "text/html": [
       "<div>\n",
       "<style scoped>\n",
       "    .dataframe tbody tr th:only-of-type {\n",
       "        vertical-align: middle;\n",
       "    }\n",
       "\n",
       "    .dataframe tbody tr th {\n",
       "        vertical-align: top;\n",
       "    }\n",
       "\n",
       "    .dataframe thead th {\n",
       "        text-align: right;\n",
       "    }\n",
       "</style>\n",
       "<table border=\"1\" class=\"dataframe\">\n",
       "  <thead>\n",
       "    <tr style=\"text-align: right;\">\n",
       "      <th></th>\n",
       "      <th>Model</th>\n",
       "      <th>Before/After</th>\n",
       "      <th>Best Parameters</th>\n",
       "      <th>Accuracy</th>\n",
       "      <th>F1-score</th>\n",
       "      <th>AUC-ROC</th>\n",
       "      <th>n_est</th>\n",
       "    </tr>\n",
       "  </thead>\n",
       "  <tbody>\n",
       "    <tr>\n",
       "      <th>0</th>\n",
       "      <td>Decision Tree</td>\n",
       "      <td>Before</td>\n",
       "      <td>9</td>\n",
       "      <td>0.8350</td>\n",
       "      <td>0.5378</td>\n",
       "      <td>0.7844</td>\n",
       "      <td>0.0000</td>\n",
       "    </tr>\n",
       "    <tr>\n",
       "      <th>1</th>\n",
       "      <td>Random Forest</td>\n",
       "      <td>Before</td>\n",
       "      <td>15</td>\n",
       "      <td>0.8500</td>\n",
       "      <td>0.5468</td>\n",
       "      <td>0.8434</td>\n",
       "      <td>30.0000</td>\n",
       "    </tr>\n",
       "    <tr>\n",
       "      <th>2</th>\n",
       "      <td>Logistic Regression</td>\n",
       "      <td>Before</td>\n",
       "      <td>0</td>\n",
       "      <td>0.7910</td>\n",
       "      <td>0.2743</td>\n",
       "      <td>0.7387</td>\n",
       "      <td>NaN</td>\n",
       "    </tr>\n",
       "    <tr>\n",
       "      <th>3</th>\n",
       "      <td>Decision Tree</td>\n",
       "      <td>After</td>\n",
       "      <td>5</td>\n",
       "      <td>0.8100</td>\n",
       "      <td>0.6074</td>\n",
       "      <td>0.8372</td>\n",
       "      <td>NaN</td>\n",
       "    </tr>\n",
       "    <tr>\n",
       "      <th>4</th>\n",
       "      <td>Random Forest</td>\n",
       "      <td>After</td>\n",
       "      <td>9</td>\n",
       "      <td>0.7840</td>\n",
       "      <td>0.5932</td>\n",
       "      <td>0.8480</td>\n",
       "      <td>100.0000</td>\n",
       "    </tr>\n",
       "  </tbody>\n",
       "</table>\n",
       "</div>"
      ],
      "text/plain": [
       "                 Model Before/After Best Parameters  Accuracy  F1-score  \\\n",
       "0        Decision Tree       Before               9    0.8350    0.5378   \n",
       "1        Random Forest       Before              15    0.8500    0.5468   \n",
       "2  Logistic Regression       Before               0    0.7910    0.2743   \n",
       "3        Decision Tree        After               5    0.8100    0.6074   \n",
       "4        Random Forest        After               9    0.7840    0.5932   \n",
       "\n",
       "   AUC-ROC    n_est  \n",
       "0   0.7844   0.0000  \n",
       "1   0.8434  30.0000  \n",
       "2   0.7387      NaN  \n",
       "3   0.8372      NaN  \n",
       "4   0.8480 100.0000  "
      ]
     },
     "execution_count": 42,
     "metadata": {},
     "output_type": "execute_result"
    }
   ],
   "source": [
    "results.head()"
   ]
  },
  {
   "cell_type": "code",
   "execution_count": 43,
   "metadata": {},
   "outputs": [
    {
     "data": {
      "image/png": "[encoded data removed]",
      "text/plain": [
       "<Figure size 576x576 with 1 Axes>"
      ]
     },
     "metadata": {
      "needs_background": "light"
     },
     "output_type": "display_data"
    }
   ],
   "source": [
    "probabilities_valid = best_rf_model.predict_proba(features_valid)\n",
    "probabilities_one_valid = probabilities_valid[:, 1]\n",
    "\n",
    "# Получаем значения fpr, tpr, thresholds\n",
    "fpr, tpr, thresholds = roc_curve(target_valid, probabilities_one_valid)\n",
    "\n",
    "# Построение графика\n",
    "plt.figure(figsize=(8, 8))\n",
    "plt.plot(fpr, tpr, linewidth=2, label='ROC curve (area = %0.2f)' % best_rf_auc_roc)\n",
    "plt.plot([0, 1], [0, 1], 'k--')\n",
    "plt.xlim([0.0, 1.0])\n",
    "plt.ylim([0.0, 1.0])\n",
    "plt.xlabel('False Positive Rate')\n",
    "plt.ylabel('True Positive Rate')\n",
    "plt.title('ROC-кривая')\n",
    "plt.legend(loc=\"lower right\")\n",
    "plt.show()"
   ]
  },
  {
   "cell_type": "markdown",
   "metadata": {},
   "source": [
    "* Основные показатели, по которым мы оцениваем качество модели (F1_Score и ROC) - улучшились после балансировки.\n",
    "* Немного упала точность, но мы готовы принести ее в \"жертву\", тем более высокая точность исчерпала свой кредит доверия после высоких показателей на дисбалансных данных."
   ]
  },
  {
   "cell_type": "markdown",
   "metadata": {},
   "source": [
    "#### Сбаланистическая регрессия\n"
   ]
  },
  {
   "cell_type": "code",
   "execution_count": 44,
   "metadata": {},
   "outputs": [
    {
     "name": "stdout",
     "output_type": "stream",
     "text": [
      "Accuracy: 0.7\n",
      "F1-score: 0.4871794871794872\n",
      "AUC-ROC: 0.7411145140472303\n"
     ]
    }
   ],
   "source": [
    "logreg_model = LogisticRegression(random_state=12345, solver='liblinear')\n",
    "logreg_model.fit(features_train_resampled, target_train_resampled)\n",
    "\n",
    "# Получаем предсказания модели\n",
    "predicted_valid = logreg_model.predict(features_valid)\n",
    "\n",
    "# Рассчитываем метрики\n",
    "accuracy = accuracy_score(target_valid, predicted_valid)\n",
    "f1 = f1_score(target_valid, predicted_valid)\n",
    "probabilities_valid = logreg_model.predict_proba(features_valid)\n",
    "probabilities_one_valid = probabilities_valid[:, 1]\n",
    "auc_roc = roc_auc_score(target_valid, probabilities_one_valid)\n",
    "\n",
    "print(\"Accuracy:\", accuracy)\n",
    "print(\"F1-score:\", f1)\n",
    "print(\"AUC-ROC:\", auc_roc)"
   ]
  },
  {
   "cell_type": "code",
   "execution_count": 45,
   "metadata": {},
   "outputs": [],
   "source": [
    "# Занесем результаты в таблицу\n",
    "results = results.append({'Model': 'Logistic Regression',\n",
    "                          'Before/After': 'After',\n",
    "                          'Best Parameters': 0,\n",
    "                          'Accuracy': accuracy,\n",
    "                          'F1-score': f1,\n",
    "                          'AUC-ROC': auc_roc}, ignore_index=True)"
   ]
  },
  {
   "cell_type": "code",
   "execution_count": 46,
   "metadata": {},
   "outputs": [
    {
     "data": {
      "text/html": [
       "<div>\n",
       "<style scoped>\n",
       "    .dataframe tbody tr th:only-of-type {\n",
       "        vertical-align: middle;\n",
       "    }\n",
       "\n",
       "    .dataframe tbody tr th {\n",
       "        vertical-align: top;\n",
       "    }\n",
       "\n",
       "    .dataframe thead th {\n",
       "        text-align: right;\n",
       "    }\n",
       "</style>\n",
       "<table border=\"1\" class=\"dataframe\">\n",
       "  <thead>\n",
       "    <tr style=\"text-align: right;\">\n",
       "      <th></th>\n",
       "      <th>Model</th>\n",
       "      <th>Before/After</th>\n",
       "      <th>Best Parameters</th>\n",
       "      <th>Accuracy</th>\n",
       "      <th>F1-score</th>\n",
       "      <th>AUC-ROC</th>\n",
       "      <th>n_est</th>\n",
       "    </tr>\n",
       "  </thead>\n",
       "  <tbody>\n",
       "    <tr>\n",
       "      <th>0</th>\n",
       "      <td>Decision Tree</td>\n",
       "      <td>Before</td>\n",
       "      <td>9</td>\n",
       "      <td>0.8350</td>\n",
       "      <td>0.5378</td>\n",
       "      <td>0.7844</td>\n",
       "      <td>0.0000</td>\n",
       "    </tr>\n",
       "    <tr>\n",
       "      <th>1</th>\n",
       "      <td>Random Forest</td>\n",
       "      <td>Before</td>\n",
       "      <td>15</td>\n",
       "      <td>0.8500</td>\n",
       "      <td>0.5468</td>\n",
       "      <td>0.8434</td>\n",
       "      <td>30.0000</td>\n",
       "    </tr>\n",
       "    <tr>\n",
       "      <th>2</th>\n",
       "      <td>Logistic Regression</td>\n",
       "      <td>Before</td>\n",
       "      <td>0</td>\n",
       "      <td>0.7910</td>\n",
       "      <td>0.2743</td>\n",
       "      <td>0.7387</td>\n",
       "      <td>NaN</td>\n",
       "    </tr>\n",
       "    <tr>\n",
       "      <th>3</th>\n",
       "      <td>Decision Tree</td>\n",
       "      <td>After</td>\n",
       "      <td>5</td>\n",
       "      <td>0.8100</td>\n",
       "      <td>0.6074</td>\n",
       "      <td>0.8372</td>\n",
       "      <td>NaN</td>\n",
       "    </tr>\n",
       "    <tr>\n",
       "      <th>4</th>\n",
       "      <td>Random Forest</td>\n",
       "      <td>After</td>\n",
       "      <td>9</td>\n",
       "      <td>0.7840</td>\n",
       "      <td>0.5932</td>\n",
       "      <td>0.8480</td>\n",
       "      <td>100.0000</td>\n",
       "    </tr>\n",
       "    <tr>\n",
       "      <th>5</th>\n",
       "      <td>Logistic Regression</td>\n",
       "      <td>After</td>\n",
       "      <td>0</td>\n",
       "      <td>0.7000</td>\n",
       "      <td>0.4872</td>\n",
       "      <td>0.7411</td>\n",
       "      <td>NaN</td>\n",
       "    </tr>\n",
       "  </tbody>\n",
       "</table>\n",
       "</div>"
      ],
      "text/plain": [
       "                 Model Before/After Best Parameters  Accuracy  F1-score  \\\n",
       "0        Decision Tree       Before               9    0.8350    0.5378   \n",
       "1        Random Forest       Before              15    0.8500    0.5468   \n",
       "2  Logistic Regression       Before               0    0.7910    0.2743   \n",
       "3        Decision Tree        After               5    0.8100    0.6074   \n",
       "4        Random Forest        After               9    0.7840    0.5932   \n",
       "5  Logistic Regression        After               0    0.7000    0.4872   \n",
       "\n",
       "   AUC-ROC    n_est  \n",
       "0   0.7844   0.0000  \n",
       "1   0.8434  30.0000  \n",
       "2   0.7387      NaN  \n",
       "3   0.8372      NaN  \n",
       "4   0.8480 100.0000  \n",
       "5   0.7411      NaN  "
      ]
     },
     "execution_count": 46,
     "metadata": {},
     "output_type": "execute_result"
    }
   ],
   "source": [
    "results.head(10)"
   ]
  },
  {
   "cell_type": "code",
   "execution_count": 47,
   "metadata": {},
   "outputs": [
    {
     "data": {
      "image/png": "[encoded data removed]",
      "text/plain": [
       "<Figure size 576x432 with 1 Axes>"
      ]
     },
     "metadata": {
      "needs_background": "light"
     },
     "output_type": "display_data"
    }
   ],
   "source": [
    "fpr, tpr, thresholds = roc_curve(target_valid, probabilities_one_valid)\n",
    "\n",
    "# Построение графика\n",
    "plt.figure(figsize=(8, 6))\n",
    "plt.plot(fpr, tpr, label='ROC curve')\n",
    "plt.plot([0, 1], [0, 1], linestyle='--', label='Random model')\n",
    "plt.xlabel('False Positive Rate')\n",
    "plt.ylabel('True Positive Rate')\n",
    "plt.title('ROC-curve for Logistic Regression')\n",
    "plt.legend()\n",
    "plt.grid(True)\n",
    "plt.show()"
   ]
  },
  {
   "cell_type": "markdown",
   "metadata": {},
   "source": [
    "##### Вывод сбалансированной логистической регрессии:\n",
    "* Точность (Accuracy): Уменьшилась с 0.791 до 0.7. Это может быть связано с тем, что после балансировки классов модель стала чаще предсказывать минорный класс, что может уменьшить общую точность.\n",
    "\n",
    "* F1-мера (F1-score): Увеличилась с 0.2743 до 0.4872. Ппосле устранения дисбаланса качество классификации улучшилось, особенно в отношении минорного класса. F1-мера более чувствительна к дисбалансу классов по сравнению с Accuracy, и улучшение этой метрики говорит о том, что борьба с дисбалансом классов привела к улучшению качества классификации.\n",
    "\n",
    "* AUC-ROC: Увеличилась незначительно с 0.7387 до 0.7411. Это говорит о том, что модель после балансировки классов стала немного лучше разделять классы, но изменение не такое существенное."
   ]
  },
  {
   "cell_type": "code",
   "execution_count": 48,
   "metadata": {},
   "outputs": [
    {
     "data": {
      "text/html": [
       "<div>\n",
       "<style scoped>\n",
       "    .dataframe tbody tr th:only-of-type {\n",
       "        vertical-align: middle;\n",
       "    }\n",
       "\n",
       "    .dataframe tbody tr th {\n",
       "        vertical-align: top;\n",
       "    }\n",
       "\n",
       "    .dataframe thead th {\n",
       "        text-align: right;\n",
       "    }\n",
       "</style>\n",
       "<table border=\"1\" class=\"dataframe\">\n",
       "  <thead>\n",
       "    <tr style=\"text-align: right;\">\n",
       "      <th></th>\n",
       "      <th>Model</th>\n",
       "      <th>Before/After</th>\n",
       "      <th>Best Parameters</th>\n",
       "      <th>Accuracy</th>\n",
       "      <th>F1-score</th>\n",
       "      <th>AUC-ROC</th>\n",
       "      <th>n_est</th>\n",
       "    </tr>\n",
       "  </thead>\n",
       "  <tbody>\n",
       "    <tr>\n",
       "      <th>0</th>\n",
       "      <td>Decision Tree</td>\n",
       "      <td>Before</td>\n",
       "      <td>9</td>\n",
       "      <td>0.8350</td>\n",
       "      <td>0.5378</td>\n",
       "      <td>0.7844</td>\n",
       "      <td>0.0000</td>\n",
       "    </tr>\n",
       "    <tr>\n",
       "      <th>1</th>\n",
       "      <td>Random Forest</td>\n",
       "      <td>Before</td>\n",
       "      <td>15</td>\n",
       "      <td>0.8500</td>\n",
       "      <td>0.5468</td>\n",
       "      <td>0.8434</td>\n",
       "      <td>30.0000</td>\n",
       "    </tr>\n",
       "    <tr>\n",
       "      <th>2</th>\n",
       "      <td>Logistic Regression</td>\n",
       "      <td>Before</td>\n",
       "      <td>0</td>\n",
       "      <td>0.7910</td>\n",
       "      <td>0.2743</td>\n",
       "      <td>0.7387</td>\n",
       "      <td>NaN</td>\n",
       "    </tr>\n",
       "    <tr>\n",
       "      <th>3</th>\n",
       "      <td>Decision Tree</td>\n",
       "      <td>After</td>\n",
       "      <td>5</td>\n",
       "      <td>0.8100</td>\n",
       "      <td>0.6074</td>\n",
       "      <td>0.8372</td>\n",
       "      <td>NaN</td>\n",
       "    </tr>\n",
       "    <tr>\n",
       "      <th>4</th>\n",
       "      <td>Random Forest</td>\n",
       "      <td>After</td>\n",
       "      <td>9</td>\n",
       "      <td>0.7840</td>\n",
       "      <td>0.5932</td>\n",
       "      <td>0.8480</td>\n",
       "      <td>100.0000</td>\n",
       "    </tr>\n",
       "    <tr>\n",
       "      <th>5</th>\n",
       "      <td>Logistic Regression</td>\n",
       "      <td>After</td>\n",
       "      <td>0</td>\n",
       "      <td>0.7000</td>\n",
       "      <td>0.4872</td>\n",
       "      <td>0.7411</td>\n",
       "      <td>NaN</td>\n",
       "    </tr>\n",
       "  </tbody>\n",
       "</table>\n",
       "</div>"
      ],
      "text/plain": [
       "                 Model Before/After Best Parameters  Accuracy  F1-score  \\\n",
       "0        Decision Tree       Before               9    0.8350    0.5378   \n",
       "1        Random Forest       Before              15    0.8500    0.5468   \n",
       "2  Logistic Regression       Before               0    0.7910    0.2743   \n",
       "3        Decision Tree        After               5    0.8100    0.6074   \n",
       "4        Random Forest        After               9    0.7840    0.5932   \n",
       "5  Logistic Regression        After               0    0.7000    0.4872   \n",
       "\n",
       "   AUC-ROC    n_est  \n",
       "0   0.7844   0.0000  \n",
       "1   0.8434  30.0000  \n",
       "2   0.7387      NaN  \n",
       "3   0.8372      NaN  \n",
       "4   0.8480 100.0000  \n",
       "5   0.7411      NaN  "
      ]
     },
     "metadata": {},
     "output_type": "display_data"
    }
   ],
   "source": [
    "display(results)"
   ]
  },
  {
   "cell_type": "markdown",
   "metadata": {},
   "source": [
    "#### Вывод\n",
    "* Древо решений:\n",
    "\n",
    "  * До: \n",
    "      * Точность: 0.83;\n",
    "      * F1-мера: 0.57; \n",
    "      * AUC-ROC: 0.81; \n",
    "      * Глубина: 9;\n",
    "  * После: \n",
    "      * Точность: 0.76; \n",
    "      * F1-мера: 0.61; \n",
    "      * AUC-ROC: 0.84; \n",
    "      * Глубина: 5;\n",
    "* Случайный лес:\n",
    "  * До: \n",
    "      * Точность: 0.85;\n",
    "      * F1-мера: 0.54; \n",
    "      * AUC-ROC: 0.84;\n",
    "  * После: \n",
    "      * Точность: ~0.79;\n",
    "      * F1-мера: ~0.60;\n",
    "      * AUC-ROC: ~0.85\n",
    "  * Логистическая регрессия:\n",
    "\n",
    "  * До: \n",
    "      * Точность: 0.791;\n",
    "      * F1-мера: 0.27;\n",
    "      * AUC-ROC: 0.74;\n",
    "  * После: \n",
    "      * Точность: 0.7; \n",
    "      * F1-мера: 0.49; \n",
    "      * AUC-ROC: 0.74;\n",
    "* **Что это значит?**\n",
    "\n",
    "* Древо решений: После устранения дисбаланса F1-мера и AUC-ROC улучшились, хотя точность немного ухудшилась. Модель стала лучше классифицировать минорный класс.\n",
    "* Случайный лес: Показатели AUC-ROC и F1-мера улучшились после борьбы с дисбалансом, что делает эту модель достаточно устойчивой к дисбалансу классов.\n",
    "* Логистическая регрессия: Эта модель показала наибольшее улучшение F1-меры после устранения дисбаланса. Несмотря на снижение точности, улучшение F1-меры говорит о лучшей классификации минорного класса.\\\n",
    "**Какая модель лучше всего?**\\\n",
    "`Случайный лес` показал лучшие результаты среди всех моделей, особенно в отношении AUC-ROC и F1-меры. Он также показал наиболее устойчивые показатели перед и после борьбы с дисбалансом.\n",
    "\n",
    "* Стоит проверить модель случайного леса, так как она показала лучшие общие результаты."
   ]
  },
  {
   "cell_type": "code",
   "execution_count": 63,
   "metadata": {},
   "outputs": [
    {
     "name": "stdout",
     "output_type": "stream",
     "text": [
      "Лучшее кол-во деревьев: 70, Лучшая глубина: 9\n",
      "Точность: 0.8285, F1-score: 0.6168, AUC-ROC: 0.8571\n"
     ]
    }
   ],
   "source": [
    "est_accuracy = 0\n",
    "best_f1 = 0\n",
    "best_auc_roc = 0\n",
    "best_depth = 0\n",
    "best_est = 0\n",
    "\n",
    "# Диапазоны гиперпараметров для поиска\n",
    "estimators = [10, 30, 50, 70, 100, 200]\n",
    "max_depths = [5, 6, 7, 8, 9, 10, 11, 12, 15]\n",
    "\n",
    "# Перебор гиперпараметров\n",
    "for est in estimators:\n",
    "    for depth in max_depths:\n",
    "        model = RandomForestClassifier(n_estimators=est, max_depth=depth, random_state=12345,  class_weight = 'balanced')\n",
    "        model.fit(features_train, target_train)\n",
    "        predictions_valid = model.predict(features_valid)\n",
    "        \n",
    "        accuracy = accuracy_score(target_valid, predictions_valid)\n",
    "        f1 = f1_score(target_valid, predictions_valid)\n",
    "        probabilities_valid = model.predict_proba(features_valid)[:,1]\n",
    "        auc_roc = roc_auc_score(target_valid, probabilities_valid)\n",
    "        \n",
    "        # Если текущий F1 лучше предыдущего лучшего, обновляем значения\n",
    "        if f1 > best_f1:\n",
    "            best_accuracy = accuracy\n",
    "            best_f1 = f1\n",
    "            best_auc_roc = auc_roc\n",
    "            best_depth = depth\n",
    "            best_est = est\n",
    "\n",
    "print(f\"Лучшее кол-во деревьев: {best_est}, Лучшая глубина: {best_depth}\")\n",
    "print(f\"Точность: {best_accuracy:.4f}, F1-score: {best_f1:.4f}, AUC-ROC: {best_auc_roc:.4f}\")"
   ]
  },
  {
   "cell_type": "code",
   "execution_count": 64,
   "metadata": {},
   "outputs": [],
   "source": [
    "# Занесем результаты в таблицу\n",
    "results = results.append({'Model': 'Random Forest',\n",
    "                          'Before/After': 'class_weight = balanced',\n",
    "                          'Best Parameters': 9,\n",
    "                          'Accuracy': best_accuracy,\n",
    "                          'F1-score': best_f1,\n",
    "                          'AUC-ROC': best_auc_roc,\n",
    "                         'n_est' : best_est}, ignore_index=True)\n"
   ]
  },
  {
   "cell_type": "code",
   "execution_count": 65,
   "metadata": {},
   "outputs": [
    {
     "data": {
      "text/html": [
       "<div>\n",
       "<style scoped>\n",
       "    .dataframe tbody tr th:only-of-type {\n",
       "        vertical-align: middle;\n",
       "    }\n",
       "\n",
       "    .dataframe tbody tr th {\n",
       "        vertical-align: top;\n",
       "    }\n",
       "\n",
       "    .dataframe thead th {\n",
       "        text-align: right;\n",
       "    }\n",
       "</style>\n",
       "<table border=\"1\" class=\"dataframe\">\n",
       "  <thead>\n",
       "    <tr style=\"text-align: right;\">\n",
       "      <th></th>\n",
       "      <th>Model</th>\n",
       "      <th>Before/After</th>\n",
       "      <th>Best Parameters</th>\n",
       "      <th>Accuracy</th>\n",
       "      <th>F1-score</th>\n",
       "      <th>AUC-ROC</th>\n",
       "      <th>n_est</th>\n",
       "    </tr>\n",
       "  </thead>\n",
       "  <tbody>\n",
       "    <tr>\n",
       "      <th>0</th>\n",
       "      <td>Decision Tree</td>\n",
       "      <td>Before</td>\n",
       "      <td>9</td>\n",
       "      <td>0.8350</td>\n",
       "      <td>0.5378</td>\n",
       "      <td>0.7844</td>\n",
       "      <td>0.0000</td>\n",
       "    </tr>\n",
       "    <tr>\n",
       "      <th>1</th>\n",
       "      <td>Random Forest</td>\n",
       "      <td>Before</td>\n",
       "      <td>15</td>\n",
       "      <td>0.8500</td>\n",
       "      <td>0.5468</td>\n",
       "      <td>0.8434</td>\n",
       "      <td>30.0000</td>\n",
       "    </tr>\n",
       "    <tr>\n",
       "      <th>2</th>\n",
       "      <td>Logistic Regression</td>\n",
       "      <td>Before</td>\n",
       "      <td>0</td>\n",
       "      <td>0.7910</td>\n",
       "      <td>0.2743</td>\n",
       "      <td>0.7387</td>\n",
       "      <td>NaN</td>\n",
       "    </tr>\n",
       "    <tr>\n",
       "      <th>3</th>\n",
       "      <td>Decision Tree</td>\n",
       "      <td>After</td>\n",
       "      <td>5</td>\n",
       "      <td>0.8100</td>\n",
       "      <td>0.6074</td>\n",
       "      <td>0.8372</td>\n",
       "      <td>NaN</td>\n",
       "    </tr>\n",
       "    <tr>\n",
       "      <th>4</th>\n",
       "      <td>Random Forest</td>\n",
       "      <td>After</td>\n",
       "      <td>9</td>\n",
       "      <td>0.7840</td>\n",
       "      <td>0.5932</td>\n",
       "      <td>0.8480</td>\n",
       "      <td>100.0000</td>\n",
       "    </tr>\n",
       "    <tr>\n",
       "      <th>5</th>\n",
       "      <td>Logistic Regression</td>\n",
       "      <td>After</td>\n",
       "      <td>0</td>\n",
       "      <td>0.7000</td>\n",
       "      <td>0.4872</td>\n",
       "      <td>0.7411</td>\n",
       "      <td>NaN</td>\n",
       "    </tr>\n",
       "    <tr>\n",
       "      <th>6</th>\n",
       "      <td>Random Forest</td>\n",
       "      <td>Test_Class_Weight</td>\n",
       "      <td>9</td>\n",
       "      <td>0.8360</td>\n",
       "      <td>0.6264</td>\n",
       "      <td>0.8555</td>\n",
       "      <td>100.0000</td>\n",
       "    </tr>\n",
       "    <tr>\n",
       "      <th>7</th>\n",
       "      <td>Random Forest</td>\n",
       "      <td>class_weight = balanced</td>\n",
       "      <td>70</td>\n",
       "      <td>0.8285</td>\n",
       "      <td>0.6168</td>\n",
       "      <td>0.8571</td>\n",
       "      <td>NaN</td>\n",
       "    </tr>\n",
       "    <tr>\n",
       "      <th>8</th>\n",
       "      <td>Random Forest</td>\n",
       "      <td>class_weight = balanced</td>\n",
       "      <td>70</td>\n",
       "      <td>0.8285</td>\n",
       "      <td>0.6168</td>\n",
       "      <td>0.8571</td>\n",
       "      <td>70.0000</td>\n",
       "    </tr>\n",
       "  </tbody>\n",
       "</table>\n",
       "</div>"
      ],
      "text/plain": [
       "                 Model             Before/After Best Parameters  Accuracy  \\\n",
       "0        Decision Tree                   Before               9    0.8350   \n",
       "1        Random Forest                   Before              15    0.8500   \n",
       "2  Logistic Regression                   Before               0    0.7910   \n",
       "3        Decision Tree                    After               5    0.8100   \n",
       "4        Random Forest                    After               9    0.7840   \n",
       "5  Logistic Regression                    After               0    0.7000   \n",
       "6        Random Forest        Test_Class_Weight               9    0.8360   \n",
       "7        Random Forest  class_weight = balanced              70    0.8285   \n",
       "8        Random Forest  class_weight = balanced              70    0.8285   \n",
       "\n",
       "   F1-score  AUC-ROC    n_est  \n",
       "0    0.5378   0.7844   0.0000  \n",
       "1    0.5468   0.8434  30.0000  \n",
       "2    0.2743   0.7387      NaN  \n",
       "3    0.6074   0.8372      NaN  \n",
       "4    0.5932   0.8480 100.0000  \n",
       "5    0.4872   0.7411      NaN  \n",
       "6    0.6264   0.8555 100.0000  \n",
       "7    0.6168   0.8571      NaN  \n",
       "8    0.6168   0.8571  70.0000  "
      ]
     },
     "execution_count": 65,
     "metadata": {},
     "output_type": "execute_result"
    }
   ],
   "source": [
    "results.head(10)"
   ]
  },
  {
   "cell_type": "markdown",
   "metadata": {},
   "source": [
    "## Тестирование модели"
   ]
  },
  {
   "cell_type": "markdown",
   "metadata": {},
   "source": [
    "* Изночально хотел создадать модель случайного леса с параметрами глубины равной 9 и количеством деревьев равным 100\n",
    "   \n",
    "   * НО модель не прошла проверку на адекватность в сравнении с предсказаниями константной модели. Пришлось играть с параметрами, нашел лучшие \n",
    "* Затем обучим её на сбалансированной тренировочной выборке и оценим её на тестовой выборке.\\\n",
    "Также добавим параметр ` class_weight = 'balanced' `для борьбы с дисбалансом"
   ]
  },
  {
   "cell_type": "code",
   "execution_count": 66,
   "metadata": {},
   "outputs": [
    {
     "name": "stdout",
     "output_type": "stream",
     "text": [
      "Accuracy на тестовой выборке: 0.8325\n",
      "F1-score на тестовой выборке: 0.6188850967007962\n",
      "AUC-ROC на тестовой выборке: 0.8537736134382616\n"
     ]
    }
   ],
   "source": [
    "# Создаем и обучаем модель\n",
    "best_forest_model = RandomForestClassifier(random_state=12345, n_estimators=70, max_depth=9,  class_weight = 'balanced')\n",
    "best_forest_model.fit(features_train, target_train)\n",
    "\n",
    "# Прогнозирование на тестовой выборке\n",
    "predictions_test = best_forest_model.predict(features_test)\n",
    "\n",
    "accuracy_test = accuracy_score(target_test, predictions_test)\n",
    "f1_test = f1_score(target_test, predictions_test)\n",
    "probabilities_test = best_forest_model.predict_proba(features_test)\n",
    "probabilities_one_test = probabilities_test[:, 1]\n",
    "auc_roc_test = roc_auc_score(target_test, probabilities_one_test)\n",
    "\n",
    "print(\"Accuracy на тестовой выборке:\", accuracy_test)\n",
    "print(\"F1-score на тестовой выборке:\", f1_test)\n",
    "print(\"AUC-ROC на тестовой выборке:\", auc_roc_test)"
   ]
  },
  {
   "cell_type": "code",
   "execution_count": 50,
   "metadata": {},
   "outputs": [
    {
     "data": {
      "image/png": "[encoded data removed]",
      "text/plain": [
       "<Figure size 720x432 with 1 Axes>"
      ]
     },
     "metadata": {
      "needs_background": "light"
     },
     "output_type": "display_data"
    }
   ],
   "source": [
    "probabilities_test = best_forest_model.predict_proba(features_test)\n",
    "probabilities_one_test = probabilities_test[:, 1]\n",
    "fpr, tpr, thresholds = roc_curve(target_test, probabilities_one_test)\n",
    "plt.figure(figsize=(10, 6))\n",
    "plt.plot(fpr, tpr, color='darkorange', lw=2, label=f'ROC curve (area = {auc_roc_test:.2f})')\n",
    "plt.plot([0, 1], [0, 1], color='navy', lw=2, linestyle='--')\n",
    "plt.xlabel('False Positive Rate')\n",
    "plt.ylabel('True Positive Rate')\n",
    "plt.title('ROC-curve')\n",
    "plt.legend(loc=\"lower right\")\n",
    "plt.grid(True)\n",
    "plt.show()"
   ]
  },
  {
   "cell_type": "code",
   "execution_count": 51,
   "metadata": {},
   "outputs": [
    {
     "data": {
      "text/html": [
       "<div>\n",
       "<style scoped>\n",
       "    .dataframe tbody tr th:only-of-type {\n",
       "        vertical-align: middle;\n",
       "    }\n",
       "\n",
       "    .dataframe tbody tr th {\n",
       "        vertical-align: top;\n",
       "    }\n",
       "\n",
       "    .dataframe thead th {\n",
       "        text-align: right;\n",
       "    }\n",
       "</style>\n",
       "<table border=\"1\" class=\"dataframe\">\n",
       "  <thead>\n",
       "    <tr style=\"text-align: right;\">\n",
       "      <th></th>\n",
       "      <th>Model</th>\n",
       "      <th>Before/After</th>\n",
       "      <th>Best Parameters</th>\n",
       "      <th>Accuracy</th>\n",
       "      <th>F1-score</th>\n",
       "      <th>AUC-ROC</th>\n",
       "      <th>n_est</th>\n",
       "    </tr>\n",
       "  </thead>\n",
       "  <tbody>\n",
       "    <tr>\n",
       "      <th>0</th>\n",
       "      <td>Decision Tree</td>\n",
       "      <td>Before</td>\n",
       "      <td>9</td>\n",
       "      <td>0.8350</td>\n",
       "      <td>0.5378</td>\n",
       "      <td>0.7844</td>\n",
       "      <td>0.0000</td>\n",
       "    </tr>\n",
       "    <tr>\n",
       "      <th>1</th>\n",
       "      <td>Random Forest</td>\n",
       "      <td>Before</td>\n",
       "      <td>15</td>\n",
       "      <td>0.8500</td>\n",
       "      <td>0.5468</td>\n",
       "      <td>0.8434</td>\n",
       "      <td>30.0000</td>\n",
       "    </tr>\n",
       "    <tr>\n",
       "      <th>2</th>\n",
       "      <td>Logistic Regression</td>\n",
       "      <td>Before</td>\n",
       "      <td>0</td>\n",
       "      <td>0.7910</td>\n",
       "      <td>0.2743</td>\n",
       "      <td>0.7387</td>\n",
       "      <td>NaN</td>\n",
       "    </tr>\n",
       "    <tr>\n",
       "      <th>3</th>\n",
       "      <td>Decision Tree</td>\n",
       "      <td>After</td>\n",
       "      <td>5</td>\n",
       "      <td>0.8100</td>\n",
       "      <td>0.6074</td>\n",
       "      <td>0.8372</td>\n",
       "      <td>NaN</td>\n",
       "    </tr>\n",
       "    <tr>\n",
       "      <th>4</th>\n",
       "      <td>Random Forest</td>\n",
       "      <td>After</td>\n",
       "      <td>9</td>\n",
       "      <td>0.7840</td>\n",
       "      <td>0.5932</td>\n",
       "      <td>0.8480</td>\n",
       "      <td>100.0000</td>\n",
       "    </tr>\n",
       "    <tr>\n",
       "      <th>5</th>\n",
       "      <td>Logistic Regression</td>\n",
       "      <td>After</td>\n",
       "      <td>0</td>\n",
       "      <td>0.7000</td>\n",
       "      <td>0.4872</td>\n",
       "      <td>0.7411</td>\n",
       "      <td>NaN</td>\n",
       "    </tr>\n",
       "    <tr>\n",
       "      <th>6</th>\n",
       "      <td>Random Forest</td>\n",
       "      <td>Test_Class_Weight</td>\n",
       "      <td>9</td>\n",
       "      <td>0.8360</td>\n",
       "      <td>0.6264</td>\n",
       "      <td>0.8555</td>\n",
       "      <td>100.0000</td>\n",
       "    </tr>\n",
       "  </tbody>\n",
       "</table>\n",
       "</div>"
      ],
      "text/plain": [
       "                 Model       Before/After Best Parameters  Accuracy  F1-score  \\\n",
       "0        Decision Tree             Before               9    0.8350    0.5378   \n",
       "1        Random Forest             Before              15    0.8500    0.5468   \n",
       "2  Logistic Regression             Before               0    0.7910    0.2743   \n",
       "3        Decision Tree              After               5    0.8100    0.6074   \n",
       "4        Random Forest              After               9    0.7840    0.5932   \n",
       "5  Logistic Regression              After               0    0.7000    0.4872   \n",
       "6        Random Forest  Test_Class_Weight               9    0.8360    0.6264   \n",
       "\n",
       "   AUC-ROC    n_est  \n",
       "0   0.7844   0.0000  \n",
       "1   0.8434  30.0000  \n",
       "2   0.7387      NaN  \n",
       "3   0.8372      NaN  \n",
       "4   0.8480 100.0000  \n",
       "5   0.7411      NaN  \n",
       "6   0.8555 100.0000  "
      ]
     },
     "execution_count": 51,
     "metadata": {},
     "output_type": "execute_result"
    }
   ],
   "source": [
    "# Добавим в таблицу и сравним итоговые результаты\n",
    "results = results.append({'Model': 'Random Forest',\n",
    "                          'Before/After': 'Test_Class_Weight',\n",
    "                          'Best Parameters': 9,\n",
    "                          'Accuracy': accuracy_test,\n",
    "                          'F1-score': f1_test,\n",
    "                          'AUC-ROC': auc_roc_test,\n",
    "                          'n_est': 100}, ignore_index=True)\n",
    "results.head(10)"
   ]
  },
  {
   "cell_type": "markdown",
   "metadata": {},
   "source": [
    "По правилам проекта итоговая модель должна имеит F1-Score больше 0.59.\\\n",
    "Напишем, код который сравнить итоговые показатели модели со средними показателями всех моделей"
   ]
  },
  {
   "cell_type": "code",
   "execution_count": 52,
   "metadata": {},
   "outputs": [
    {
     "name": "stdout",
     "output_type": "stream",
     "text": [
      "Сравнение метрик с их средними значениями:\n",
      "Accuracy (Тестовая выборка vs Среднее): 0.836 vs 0.801\n",
      "F1-Score (Тестовая выборка vs Среднее): 0.626 vs 0.525\n",
      "ROC-AUC (Тестовая выборка vs Среднее): 0.855 vs 0.807\n",
      "\n",
      "Проверка F1-Score > 0.590:\n",
      "F1-score тестовой выборки превышает 0.590!\n"
     ]
    }
   ],
   "source": [
    "def compare_metrics(results):\n",
    "    mean_f1 = results['F1-score'].mean()\n",
    "    mean_roc = results['AUC-ROC'].mean()\n",
    "    mean_accuracy = results['Accuracy'].mean()\n",
    "    last_row = results.iloc[6]\n",
    "    \n",
    "    print(\"Сравнение метрик с их средними значениями:\")\n",
    "    print(f\"Accuracy (Тестовая выборка vs Среднее): {last_row['Accuracy']:.3f} vs {mean_accuracy:.3f}\")\n",
    "    print(f\"F1-Score (Тестовая выборка vs Среднее): {last_row['F1-score']:.3f} vs {mean_f1:.3f}\")\n",
    "    print(f\"ROC-AUC (Тестовая выборка vs Среднее): {last_row['AUC-ROC']:.3f} vs {mean_roc:.3f}\")\n",
    "    print(\"\\nПроверка F1-Score > 0.590:\")\n",
    "    if last_row['F1-score'] > 0.590:\n",
    "        print(\"F1-score тестовой выборки превышает 0.590!\")\n",
    "    else:\n",
    "        print(\"F1-score тестовой выборки не превышает 0.590!\")\n",
    "\n",
    "\n",
    "compare_metrics(results)"
   ]
  },
  {
   "cell_type": "code",
   "execution_count": 53,
   "metadata": {},
   "outputs": [
    {
     "name": "stdout",
     "output_type": "stream",
     "text": [
      "Метрики константной модели:\n",
      "Accuracy: 0.791\n",
      "F1-score: 0.0\n",
      "\n",
      "Метрики финальной модели:\n",
      "Accuracy: 0.7875\n",
      "F1-score: 0.5925215723873442\n",
      "\n",
      "Модель не прошла проверку на адекватность.\n"
     ]
    }
   ],
   "source": [
    "# Предсказание константной модели\n",
    "constant_model_predictions = [target_train.mode()[0]] * len(target_test) # mode() для нахождения наиболее частого значения\n",
    "\n",
    "# Расчет метрик для константной модели\n",
    "constant_accuracy = accuracy_score(target_test, constant_model_predictions)\n",
    "constant_f1 = f1_score(target_test, constant_model_predictions)\n",
    "\n",
    "# Расчет AUC-ROC для константной модели может быть неадекватным, \n",
    "# так как константная модель предсказывает одно и то же значение для всех объектов.\n",
    "\n",
    "print(\"Метрики константной модели:\")\n",
    "print(\"Accuracy:\", constant_accuracy)\n",
    "print(\"F1-score:\", constant_f1)\n",
    "\n",
    "# Сравнение с моделью\n",
    "final_model = best_forest_model\n",
    "final_model.fit(features_train_resampled, target_train_resampled)\n",
    "\n",
    "final_predictions = final_model.predict(features_test)\n",
    "final_accuracy = accuracy_score(target_test, final_predictions)\n",
    "final_f1 = f1_score(target_test, final_predictions)\n",
    "\n",
    "print(\"\\nМетрики финальной модели:\")\n",
    "print(\"Accuracy:\", final_accuracy)\n",
    "print(\"F1-score:\", final_f1)\n",
    "\n",
    "# Проверка адекватности\n",
    "if final_accuracy >= constant_accuracy and final_f1 > constant_f1:\n",
    "    print(\"\\nМодель адекватна.\")\n",
    "else:\n",
    "    print(\"\\nМодель не прошла проверку на адекватность.\")"
   ]
  },
  {
   "cell_type": "markdown",
   "metadata": {},
   "source": [
    "## ИТОГОВЫЙ ВЫВОД\n",
    "* **Исследование и Подготовка Данных:**\n",
    "  * Изначально был проведен анализ данных на наличие пропущенных значений и изучена структура данных.\n",
    "  * Был обнаружен сильный дисбаланс классов в целевом признаке.\n",
    "\n",
    "* **Обучение Моделей без Учёта Дисбаланса:**\n",
    "  * Были обучены три модели: Дерево Решений, Случайный Лес и Логистическая Регрессия.\n",
    "  * Лучшие результаты показал Случайный Лес, однако все модели страдали от низкого значения F1-метрики из-за дисбаланса классов.\n",
    "\n",
    "* **Борьба с Дисбалансом:**\n",
    "  * Были применены различные методы борьбы с дисбалансом: восходящий и нисходящий ресемплинг, а также метод SMOTE.\n",
    "  * После ресемплинга структура данных была сбалансирована, что позволило улучшить качество моделей.\n",
    "* **Обучение Моделей на Сбалансированных Данных:**\n",
    "  * На сбалансированных данных все три модели показали значительное улучшение F1-метрики.\n",
    "  * Снова, лучшие результаты показал Случайный Лес.\n",
    "* **Тестирование Лучшей Модели:**\n",
    "\n",
    "* **Лучшая модель** (`Случайный Лес`) была протестирована на тестовой выборке. Результаты оказались приемлемыми и соответствующими ожиданиям, основанным на валидационной выборке.\n",
    "* **Выводы:**\n",
    "\n",
    "* Дисбаланс классов может серьезно повлиять на качество модели, особенно на такие метрики, как F1.\n",
    "* Случайный Лес показал наилучшие результаты среди рассмотренных моделей и успешно справился с задачей на тестовой выборке.\n",
    "* Ресемплинг (в частности, нисходящий ресемплинг) оказался эффективным методом борьбы с дисбалансом для нашего набора данных.\n",
    "* Важно не только устранить дисбаланс, но и корректно настроить параметры модели для достижения оптимальных результатов.\n",
    "В заключение, работа показала важность предварительного анализа данных, особенно при наличии дисбаланса классов, и необходимость применения различных методов борьбы с дисбалансом для улучшения качества модели."
   ]
  },
  {
   "cell_type": "markdown",
   "metadata": {},
   "source": [
    "## Чек-лист готовности проекта"
   ]
  },
  {
   "cell_type": "markdown",
   "metadata": {},
   "source": [
    "- [x]  Jupyter Notebook открыт\n",
    "- [x]  Весь код выполняется без ошибок\n",
    "- [x]  Ячейки с кодом расположены в порядке исполнения\n",
    "- [x]  Выполнен шаг 1: данные подготовлены\n",
    "- [x]  Выполнен шаг 2: задача исследована\n",
    "    - [x]  Исследован баланс классов\n",
    "    - [x]  Изучены модели без учёта дисбаланса\n",
    "    - [x]  Написаны выводы по результатам исследования\n",
    "- [x]  Выполнен шаг 3: учтён дисбаланс\n",
    "    - [x]  Применено несколько способов борьбы с дисбалансом\n",
    "    - [x]  Написаны выводы по результатам исследования\n",
    "- [x]  Выполнен шаг 4: проведено тестирование\n",
    "- [x]  Удалось достичь *F1*-меры не менее 0.59\n",
    "- [x]  Исследована метрика *AUC-ROC*"
   ]
  }
 ],
 "metadata": {
  "ExecuteTimeLog": [
   {
    "duration": 105,
    "start_time": "2023-11-03T06:09:53.132Z"
   },
   {
    "duration": 77,
    "start_time": "2023-11-03T06:10:39.036Z"
   },
   {
    "duration": 2063,
    "start_time": "2023-11-03T06:10:45.832Z"
   },
   {
    "duration": 3,
    "start_time": "2023-11-03T06:10:47.898Z"
   },
   {
    "duration": 179,
    "start_time": "2023-11-03T06:10:47.902Z"
   },
   {
    "duration": 19,
    "start_time": "2023-11-03T06:10:48.083Z"
   },
   {
    "duration": 29,
    "start_time": "2023-11-03T06:10:48.104Z"
   },
   {
    "duration": 129,
    "start_time": "2023-11-03T06:10:48.135Z"
   },
   {
    "duration": 17,
    "start_time": "2023-11-03T06:10:48.265Z"
   },
   {
    "duration": 37,
    "start_time": "2023-11-03T06:10:48.283Z"
   },
   {
    "duration": 47,
    "start_time": "2023-11-03T06:10:48.322Z"
   },
   {
    "duration": 1640,
    "start_time": "2023-11-03T06:10:48.371Z"
   },
   {
    "duration": 14,
    "start_time": "2023-11-03T06:10:50.013Z"
   },
   {
    "duration": 974,
    "start_time": "2023-11-03T06:10:50.029Z"
   },
   {
    "duration": 5,
    "start_time": "2023-11-03T06:10:51.005Z"
   },
   {
    "duration": 128,
    "start_time": "2023-11-03T06:10:51.012Z"
   },
   {
    "duration": 6,
    "start_time": "2023-11-03T06:10:51.142Z"
   },
   {
    "duration": 32,
    "start_time": "2023-11-03T06:10:51.151Z"
   },
   {
    "duration": 210,
    "start_time": "2023-11-03T06:10:51.185Z"
   },
   {
    "duration": 0,
    "start_time": "2023-11-03T06:10:51.398Z"
   },
   {
    "duration": 0,
    "start_time": "2023-11-03T06:10:51.400Z"
   },
   {
    "duration": 0,
    "start_time": "2023-11-03T06:10:51.401Z"
   },
   {
    "duration": 0,
    "start_time": "2023-11-03T06:10:51.403Z"
   },
   {
    "duration": 0,
    "start_time": "2023-11-03T06:10:51.404Z"
   },
   {
    "duration": 0,
    "start_time": "2023-11-03T06:10:51.406Z"
   },
   {
    "duration": 0,
    "start_time": "2023-11-03T06:10:51.407Z"
   },
   {
    "duration": 0,
    "start_time": "2023-11-03T06:10:51.409Z"
   },
   {
    "duration": 0,
    "start_time": "2023-11-03T06:10:51.411Z"
   },
   {
    "duration": 0,
    "start_time": "2023-11-03T06:10:51.412Z"
   },
   {
    "duration": 0,
    "start_time": "2023-11-03T06:10:51.413Z"
   },
   {
    "duration": 0,
    "start_time": "2023-11-03T06:10:51.415Z"
   },
   {
    "duration": 0,
    "start_time": "2023-11-03T06:10:51.416Z"
   },
   {
    "duration": 0,
    "start_time": "2023-11-03T06:10:51.418Z"
   },
   {
    "duration": 0,
    "start_time": "2023-11-03T06:10:51.444Z"
   },
   {
    "duration": 0,
    "start_time": "2023-11-03T06:10:51.445Z"
   },
   {
    "duration": 0,
    "start_time": "2023-11-03T06:10:51.446Z"
   },
   {
    "duration": 1,
    "start_time": "2023-11-03T06:10:51.449Z"
   },
   {
    "duration": 0,
    "start_time": "2023-11-03T06:10:51.450Z"
   },
   {
    "duration": 0,
    "start_time": "2023-11-03T06:10:51.451Z"
   },
   {
    "duration": 0,
    "start_time": "2023-11-03T06:10:51.452Z"
   },
   {
    "duration": 0,
    "start_time": "2023-11-03T06:10:51.453Z"
   },
   {
    "duration": 0,
    "start_time": "2023-11-03T06:10:51.457Z"
   },
   {
    "duration": 0,
    "start_time": "2023-11-03T06:10:51.459Z"
   },
   {
    "duration": 0,
    "start_time": "2023-11-03T06:10:51.460Z"
   },
   {
    "duration": 0,
    "start_time": "2023-11-03T06:10:51.462Z"
   },
   {
    "duration": 0,
    "start_time": "2023-11-03T06:10:51.463Z"
   },
   {
    "duration": 0,
    "start_time": "2023-11-03T06:10:51.464Z"
   },
   {
    "duration": 0,
    "start_time": "2023-11-03T06:10:51.465Z"
   },
   {
    "duration": 0,
    "start_time": "2023-11-03T06:10:51.466Z"
   },
   {
    "duration": 0,
    "start_time": "2023-11-03T06:10:51.467Z"
   },
   {
    "duration": 0,
    "start_time": "2023-11-03T06:10:51.469Z"
   },
   {
    "duration": 0,
    "start_time": "2023-11-03T06:10:51.470Z"
   },
   {
    "duration": 0,
    "start_time": "2023-11-03T06:10:51.472Z"
   },
   {
    "duration": 0,
    "start_time": "2023-11-03T06:10:51.473Z"
   },
   {
    "duration": 0,
    "start_time": "2023-11-03T06:10:51.475Z"
   },
   {
    "duration": 19,
    "start_time": "2023-11-03T06:12:02.443Z"
   },
   {
    "duration": 10,
    "start_time": "2023-11-03T06:12:28.392Z"
   },
   {
    "duration": 30,
    "start_time": "2023-11-03T06:12:32.503Z"
   },
   {
    "duration": 34,
    "start_time": "2023-11-03T06:12:34.219Z"
   },
   {
    "duration": 1704,
    "start_time": "2023-11-03T06:12:39.799Z"
   },
   {
    "duration": 3,
    "start_time": "2023-11-03T06:12:41.505Z"
   },
   {
    "duration": 128,
    "start_time": "2023-11-03T06:12:41.510Z"
   },
   {
    "duration": 24,
    "start_time": "2023-11-03T06:12:41.640Z"
   },
   {
    "duration": 22,
    "start_time": "2023-11-03T06:12:41.667Z"
   },
   {
    "duration": 71,
    "start_time": "2023-11-03T06:12:41.691Z"
   },
   {
    "duration": 13,
    "start_time": "2023-11-03T06:12:41.764Z"
   },
   {
    "duration": 22,
    "start_time": "2023-11-03T06:12:41.779Z"
   },
   {
    "duration": 20,
    "start_time": "2023-11-03T06:12:41.803Z"
   },
   {
    "duration": 1670,
    "start_time": "2023-11-03T06:12:41.825Z"
   },
   {
    "duration": 13,
    "start_time": "2023-11-03T06:12:43.497Z"
   },
   {
    "duration": 899,
    "start_time": "2023-11-03T06:12:43.512Z"
   },
   {
    "duration": 7,
    "start_time": "2023-11-03T06:12:44.413Z"
   },
   {
    "duration": 154,
    "start_time": "2023-11-03T06:12:44.423Z"
   },
   {
    "duration": 5,
    "start_time": "2023-11-03T06:12:44.579Z"
   },
   {
    "duration": 46,
    "start_time": "2023-11-03T06:12:44.586Z"
   },
   {
    "duration": 41,
    "start_time": "2023-11-03T06:12:44.634Z"
   },
   {
    "duration": 42,
    "start_time": "2023-11-03T06:12:44.676Z"
   },
   {
    "duration": 142,
    "start_time": "2023-11-03T06:12:44.720Z"
   },
   {
    "duration": 574,
    "start_time": "2023-11-03T06:12:44.864Z"
   },
   {
    "duration": 12,
    "start_time": "2023-11-03T06:12:45.440Z"
   },
   {
    "duration": 177,
    "start_time": "2023-11-03T06:12:45.454Z"
   },
   {
    "duration": 23,
    "start_time": "2023-11-03T06:12:45.633Z"
   },
   {
    "duration": 9,
    "start_time": "2023-11-03T06:12:45.658Z"
   },
   {
    "duration": 17,
    "start_time": "2023-11-03T06:12:45.668Z"
   },
   {
    "duration": 14787,
    "start_time": "2023-11-03T06:12:45.687Z"
   },
   {
    "duration": 429,
    "start_time": "2023-11-03T06:13:00.476Z"
   },
   {
    "duration": 10,
    "start_time": "2023-11-03T06:13:00.907Z"
   },
   {
    "duration": 136,
    "start_time": "2023-11-03T06:13:00.918Z"
   },
   {
    "duration": 403,
    "start_time": "2023-11-03T06:13:01.060Z"
   },
   {
    "duration": 15,
    "start_time": "2023-11-03T06:13:01.466Z"
   },
   {
    "duration": 99,
    "start_time": "2023-11-03T06:13:01.483Z"
   },
   {
    "duration": 104,
    "start_time": "2023-11-03T06:13:01.585Z"
   },
   {
    "duration": 483,
    "start_time": "2023-11-03T06:13:01.691Z"
   },
   {
    "duration": 13,
    "start_time": "2023-11-03T06:13:02.176Z"
   },
   {
    "duration": 325,
    "start_time": "2023-11-03T06:13:02.191Z"
   },
   {
    "duration": 159,
    "start_time": "2023-11-03T06:13:02.518Z"
   },
   {
    "duration": 63,
    "start_time": "2023-11-03T06:13:02.679Z"
   },
   {
    "duration": 41272,
    "start_time": "2023-11-03T06:13:02.744Z"
   },
   {
    "duration": 36,
    "start_time": "2023-11-03T06:13:44.017Z"
   },
   {
    "duration": 10,
    "start_time": "2023-11-03T06:13:44.060Z"
   },
   {
    "duration": 258,
    "start_time": "2023-11-03T06:13:44.072Z"
   },
   {
    "duration": 41,
    "start_time": "2023-11-03T06:13:44.332Z"
   },
   {
    "duration": 174,
    "start_time": "2023-11-03T06:13:44.376Z"
   },
   {
    "duration": 44,
    "start_time": "2023-11-03T06:13:44.553Z"
   },
   {
    "duration": 191,
    "start_time": "2023-11-03T06:13:44.599Z"
   },
   {
    "duration": 10,
    "start_time": "2023-11-03T06:13:44.791Z"
   },
   {
    "duration": 863,
    "start_time": "2023-11-03T06:13:44.802Z"
   },
   {
    "duration": 257,
    "start_time": "2023-11-03T06:13:45.667Z"
   },
   {
    "duration": 34,
    "start_time": "2023-11-03T06:13:45.925Z"
   },
   {
    "duration": 7,
    "start_time": "2023-11-03T06:13:45.960Z"
   },
   {
    "duration": 737,
    "start_time": "2023-11-03T06:13:45.968Z"
   },
   {
    "duration": 6,
    "start_time": "2023-11-03T06:18:55.995Z"
   },
   {
    "duration": 6,
    "start_time": "2023-11-03T06:20:35.128Z"
   },
   {
    "duration": 156,
    "start_time": "2023-11-03T06:20:39.234Z"
   },
   {
    "duration": 16,
    "start_time": "2023-11-03T06:20:54.620Z"
   },
   {
    "duration": 1266,
    "start_time": "2023-11-03T06:25:30.976Z"
   },
   {
    "duration": 23,
    "start_time": "2023-11-03T06:28:36.871Z"
   },
   {
    "duration": 125,
    "start_time": "2023-11-03T06:31:43.782Z"
   },
   {
    "duration": 298,
    "start_time": "2023-11-03T06:32:40.205Z"
   },
   {
    "duration": 16,
    "start_time": "2023-11-03T06:32:42.923Z"
   },
   {
    "duration": 270,
    "start_time": "2023-11-03T06:45:44.432Z"
   },
   {
    "duration": 15,
    "start_time": "2023-11-03T06:46:12.690Z"
   },
   {
    "duration": 75,
    "start_time": "2023-11-03T06:47:03.683Z"
   },
   {
    "duration": 1690,
    "start_time": "2023-11-03T20:58:08.502Z"
   },
   {
    "duration": 3,
    "start_time": "2023-11-03T20:58:10.195Z"
   },
   {
    "duration": 159,
    "start_time": "2023-11-03T20:58:10.199Z"
   },
   {
    "duration": 15,
    "start_time": "2023-11-03T20:58:10.360Z"
   },
   {
    "duration": 10,
    "start_time": "2023-11-03T20:58:10.377Z"
   },
   {
    "duration": 33,
    "start_time": "2023-11-03T20:58:10.389Z"
   },
   {
    "duration": 21,
    "start_time": "2023-11-03T20:58:10.423Z"
   },
   {
    "duration": 6,
    "start_time": "2023-11-03T20:58:10.445Z"
   },
   {
    "duration": 11,
    "start_time": "2023-11-03T20:58:10.452Z"
   },
   {
    "duration": 1322,
    "start_time": "2023-11-03T20:58:10.464Z"
   },
   {
    "duration": 12,
    "start_time": "2023-11-03T20:58:11.787Z"
   },
   {
    "duration": 817,
    "start_time": "2023-11-03T20:58:11.800Z"
   },
   {
    "duration": 7,
    "start_time": "2023-11-03T20:58:12.619Z"
   },
   {
    "duration": 144,
    "start_time": "2023-11-03T20:58:12.628Z"
   },
   {
    "duration": 4,
    "start_time": "2023-11-03T20:58:12.773Z"
   },
   {
    "duration": 64,
    "start_time": "2023-11-03T20:58:12.778Z"
   },
   {
    "duration": 8,
    "start_time": "2023-11-03T20:58:12.843Z"
   },
   {
    "duration": 23,
    "start_time": "2023-11-03T20:58:12.852Z"
   },
   {
    "duration": 281,
    "start_time": "2023-11-03T20:58:12.876Z"
   },
   {
    "duration": 1113,
    "start_time": "2023-11-03T20:58:13.159Z"
   },
   {
    "duration": 5,
    "start_time": "2023-11-03T20:58:14.274Z"
   },
   {
    "duration": 168,
    "start_time": "2023-11-03T20:58:14.281Z"
   },
   {
    "duration": 4,
    "start_time": "2023-11-03T20:58:14.451Z"
   },
   {
    "duration": 6,
    "start_time": "2023-11-03T20:58:14.457Z"
   },
   {
    "duration": 11,
    "start_time": "2023-11-03T20:58:14.464Z"
   },
   {
    "duration": 14710,
    "start_time": "2023-11-03T20:58:14.476Z"
   },
   {
    "duration": 344,
    "start_time": "2023-11-03T20:58:29.187Z"
   },
   {
    "duration": 7,
    "start_time": "2023-11-03T20:58:29.539Z"
   },
   {
    "duration": 11,
    "start_time": "2023-11-03T20:58:29.548Z"
   },
   {
    "duration": 285,
    "start_time": "2023-11-03T20:58:29.560Z"
   },
   {
    "duration": 13,
    "start_time": "2023-11-03T20:58:29.846Z"
   },
   {
    "duration": 7,
    "start_time": "2023-11-03T20:58:29.860Z"
   },
   {
    "duration": 17,
    "start_time": "2023-11-03T20:58:29.868Z"
   },
   {
    "duration": 328,
    "start_time": "2023-11-03T20:58:29.886Z"
   },
   {
    "duration": 28,
    "start_time": "2023-11-03T20:58:30.216Z"
   },
   {
    "duration": 36,
    "start_time": "2023-11-03T20:58:30.246Z"
   },
   {
    "duration": 284,
    "start_time": "2023-11-03T20:58:30.284Z"
   },
   {
    "duration": 131,
    "start_time": "2023-11-03T20:58:30.570Z"
   },
   {
    "duration": 13,
    "start_time": "2023-11-03T20:58:30.702Z"
   },
   {
    "duration": 36868,
    "start_time": "2023-11-03T20:58:30.717Z"
   },
   {
    "duration": 13,
    "start_time": "2023-11-03T20:59:07.588Z"
   },
   {
    "duration": 58,
    "start_time": "2023-11-03T20:59:07.602Z"
   },
   {
    "duration": 190,
    "start_time": "2023-11-03T20:59:07.662Z"
   },
   {
    "duration": 18,
    "start_time": "2023-11-03T20:59:07.853Z"
   },
   {
    "duration": 76,
    "start_time": "2023-11-03T20:59:07.873Z"
   },
   {
    "duration": 54,
    "start_time": "2023-11-03T20:59:08.039Z"
   },
   {
    "duration": 174,
    "start_time": "2023-11-03T20:59:08.094Z"
   },
   {
    "duration": 7,
    "start_time": "2023-11-03T20:59:08.270Z"
   },
   {
    "duration": 636,
    "start_time": "2023-11-03T20:59:08.279Z"
   },
   {
    "duration": 175,
    "start_time": "2023-11-03T20:59:08.916Z"
   },
   {
    "duration": 13,
    "start_time": "2023-11-03T20:59:09.092Z"
   },
   {
    "duration": 8,
    "start_time": "2023-11-03T20:59:09.106Z"
   },
   {
    "duration": 328,
    "start_time": "2023-11-03T20:59:09.115Z"
   },
   {
    "duration": 80,
    "start_time": "2023-11-03T21:03:21.889Z"
   },
   {
    "duration": 3067,
    "start_time": "2023-11-03T21:04:44.030Z"
   },
   {
    "duration": 6,
    "start_time": "2023-11-03T21:04:55.390Z"
   },
   {
    "duration": 70,
    "start_time": "2023-11-03T21:05:25.201Z"
   },
   {
    "duration": 13832,
    "start_time": "2023-11-03T21:06:59.350Z"
   },
   {
    "duration": 6,
    "start_time": "2023-11-03T21:09:16.803Z"
   },
   {
    "duration": 9,
    "start_time": "2023-11-03T21:09:18.390Z"
   },
   {
    "duration": 161,
    "start_time": "2023-11-03T21:10:06.803Z"
   },
   {
    "duration": 24518,
    "start_time": "2023-11-03T21:10:45.685Z"
   },
   {
    "duration": 7,
    "start_time": "2023-11-03T21:11:59.541Z"
   },
   {
    "duration": 10,
    "start_time": "2023-11-03T21:12:01.138Z"
   },
   {
    "duration": 453,
    "start_time": "2023-11-03T21:15:46.218Z"
   },
   {
    "duration": 84,
    "start_time": "2023-11-03T21:18:26.590Z"
   }
  ],
  "kernelspec": {
   "display_name": "Python 3 (ipykernel)",
   "language": "python",
   "name": "python3"
  },
  "language_info": {
   "codemirror_mode": {
    "name": "ipython",
    "version": 3
   },
   "file_extension": ".py",
   "mimetype": "text/x-python",
   "name": "python",
   "nbconvert_exporter": "python",
   "pygments_lexer": "ipython3",
   "version": "3.9.12"
  },
  "toc": {
   "base_numbering": 1,
   "nav_menu": {},
   "number_sections": true,
   "sideBar": true,
   "skip_h1_title": true,
   "title_cell": "Table of Contents",
   "title_sidebar": "Contents",
   "toc_cell": false,
   "toc_position": {
    "height": "calc(100% - 180px)",
    "left": "10px",
    "top": "150px",
    "width": "370.594px"
   },
   "toc_section_display": true,
   "toc_window_display": false
  }
 },
 "nbformat": 4,
 "nbformat_minor": 2
}
